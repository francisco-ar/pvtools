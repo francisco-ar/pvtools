{
 "cells": [
  {
   "cell_type": "code",
   "execution_count": 7,
   "metadata": {},
   "outputs": [],
   "source": [
    "from nbdev.imports import ConfigParser"
   ]
  },
  {
   "cell_type": "code",
   "execution_count": 8,
   "metadata": {},
   "outputs": [
    {
     "data": {
      "text/plain": [
       "['pvlib>-=0.7',\n",
       " 'pandas>=0.25',\n",
       " 'pvfactors',\n",
       " 'fastcore',\n",
       " 'numpy',\n",
       " 'matplotlib',\n",
       " 'sklearn',\n",
       " 'fastprogress',\n",
       " 'hdf5storage',\n",
       " 'tables',\n",
       " 'git+git://github.com/tcapelle/bifacialvf.git']"
      ]
     },
     "execution_count": 8,
     "metadata": {},
     "output_type": "execute_result"
    }
   ],
   "source": [
    "config = ConfigParser(delimiters=['='])\n",
    "config.read('settings.ini')\n",
    "cfg = config['DEFAULT']\n",
    "\n",
    "cfg.get('requirements', '').split()"
   ]
  },
  {
   "cell_type": "code",
   "execution_count": null,
   "metadata": {},
   "outputs": [],
   "source": []
  }
 ],
 "metadata": {
  "kernelspec": {
   "display_name": "Python 3",
   "language": "python",
   "name": "python3"
  },
  "language_info": {
   "codemirror_mode": {
    "name": "ipython",
    "version": 3
   },
   "file_extension": ".py",
   "mimetype": "text/x-python",
   "name": "python",
   "nbconvert_exporter": "python",
   "pygments_lexer": "ipython3",
   "version": "3.7.6"
  }
 },
 "nbformat": 4,
 "nbformat_minor": 2
}
