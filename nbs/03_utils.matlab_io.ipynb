{
 "cells": [
  {
   "cell_type": "code",
   "execution_count": null,
   "metadata": {},
   "outputs": [],
   "source": [
    "# default_exp utils.matlab_io"
   ]
  },
  {
   "cell_type": "code",
   "execution_count": null,
   "metadata": {},
   "outputs": [],
   "source": [
    "# export\n",
    "from capetools.imports import *\n",
    "from capetools.utils.pandas_hacks import reduce_mem_usage\n",
    "import hdf5storage\n",
    "import datetime"
   ]
  },
  {
   "cell_type": "markdown",
   "metadata": {},
   "source": [
    "# Matlab IO\n",
    "> Reading mat files to python"
   ]
  },
  {
   "cell_type": "code",
   "execution_count": null,
   "metadata": {},
   "outputs": [],
   "source": [
    "#export\n",
    "def read_mat(filename: Union[str, Path]):\n",
    "    mat = hdf5storage.loadmat(str(filename))\n",
    "    return mat"
   ]
  },
  {
   "cell_type": "markdown",
   "metadata": {},
   "source": [
    "A set of functions to convert `.mat` files from the PopDB to `DataFrames`"
   ]
  },
  {
   "cell_type": "code",
   "execution_count": null,
   "metadata": {},
   "outputs": [],
   "source": [
    "#export\n",
    "def datetime_mtopy(datenum):\n",
    "    '''\n",
    "    Input\n",
    "        The fractional day count according to datenum datatype in matlab\n",
    "    Output\n",
    "        The date and time as a instance of type datetime in python\n",
    "    Notes on day counting\n",
    "        matlab: day one is 1 Jan 0000 \n",
    "        python: day one is 1 Jan 0001\n",
    "        hence a reduction of 366 days, for year 0 AD was a leap year\n",
    "    EX:\n",
    "    df['date'] = df['tvec'].apply(lambda tvec: datetime_mtopy(tvec))\n",
    "    '''\n",
    "    ii = datetime.datetime.fromordinal(int(datenum) - 366)\n",
    "    ff = datetime.timedelta(days=datenum%1)\n",
    "    return ii + ff \n",
    "\n",
    "def get_components(mat):\n",
    "    \"helper function to process the mat file\"\n",
    "    compList = {}\n",
    "    for name in mat['dataName']:\n",
    "        compList[name[0][0][0]]=[]\n",
    "        for item in name[1]:\n",
    "            compList[name[0][0][0]]+=[x[0][0] for x in item]\n",
    "    return compList\n",
    "\n",
    "def dict2tuples(d):\n",
    "    \"helper to split comp names\"\n",
    "    tuples = []\n",
    "    for key in d:\n",
    "        tuples += list(zip(['_'.join(key.split())]*len(d[key]), d[key]))\n",
    "    return tuples\n",
    "\n",
    "def make_datetime_index(df):\n",
    "    \"creates a datetime index\"\n",
    "    df['date'] = df[0].apply(lambda tvec: datetime_mtopy(tvec))\n",
    "    df.set_index('date', inplace=True)\n",
    "    df.drop(columns=[0], axis=1, inplace=True)\n",
    "    return\n",
    "\n",
    "def mat2df(filename):\n",
    "    'Popdb matlab .mat file to pandas df'\n",
    "    mat = read_mat(filename)\n",
    "    data = mat['data']\n",
    "    tvec = mat['tvec']\n",
    "    datac = np.concatenate((tvec, data), axis=1)\n",
    "    df = pd.DataFrame(datac)\n",
    "    compList = get_components(mat)\n",
    "    compTuples = dict2tuples(compList)\n",
    "    make_datetime_index(df)\n",
    "    df.columns = pd.MultiIndex.from_tuples(compTuples, \n",
    "                                           names=['component','quantity'])\n",
    "    return reduce_mem_usage(df)"
   ]
  },
  {
   "cell_type": "markdown",
   "metadata": {},
   "source": [
    "# Exports -"
   ]
  },
  {
   "cell_type": "code",
   "execution_count": null,
   "metadata": {},
   "outputs": [
    {
     "name": "stdout",
     "output_type": "stream",
     "text": [
      "Converted 00_utils.core.ipynb.\n",
      "Converted 01_utils.pandas_hacks.ipynb.\n",
      "Converted 03_utils.matlab_io.ipynb.\n",
      "Converted index.ipynb.\n"
     ]
    }
   ],
   "source": [
    "#hide\n",
    "from nbdev.export import notebook2script\n",
    "notebook2script()"
   ]
  },
  {
   "cell_type": "code",
   "execution_count": null,
   "metadata": {},
   "outputs": [],
   "source": []
  }
 ],
 "metadata": {
  "kernelspec": {
   "display_name": "Python 3",
   "language": "python",
   "name": "python3"
  }
 },
 "nbformat": 4,
 "nbformat_minor": 2
}
