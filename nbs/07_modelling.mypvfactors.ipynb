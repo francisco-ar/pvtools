{
 "cells": [
  {
   "cell_type": "code",
   "execution_count": null,
   "metadata": {},
   "outputs": [],
   "source": [
    "#default_exp modelling.mypvfactors"
   ]
  },
  {
   "cell_type": "code",
   "execution_count": null,
   "metadata": {},
   "outputs": [],
   "source": [
    "#export\n",
    "from capetools.imports import *\n",
    "from capetools.utils.tmy import *\n",
    "import pvfactors\n",
    "from pvfactors.geometry import OrderedPVArray\n",
    "from pvfactors.engine import PVEngine\n",
    "import pvlib"
   ]
  },
  {
   "cell_type": "code",
   "execution_count": null,
   "metadata": {},
   "outputs": [],
   "source": [
    "from nbdev.showdoc import show_doc"
   ]
  },
  {
   "cell_type": "markdown",
   "metadata": {},
   "source": [
    "# pvfactors\n",
    "> My custom pvfactors fucntions."
   ]
  },
  {
   "cell_type": "code",
   "execution_count": null,
   "metadata": {},
   "outputs": [
    {
     "data": {
      "text/plain": [
       "(#2) [Path('/home/tc256760/Documents/capetools/data/pvgis_tmy_chambery.csv'),Path('/home/tc256760/Documents/capetools/data/sample_data.hdf')]"
      ]
     },
     "execution_count": null,
     "metadata": {},
     "output_type": "execute_result"
    }
   ],
   "source": [
    "DATAPATH = Path.cwd().parent/'data'\n",
    "DATAPATH.ls()"
   ]
  },
  {
   "cell_type": "code",
   "execution_count": null,
   "metadata": {},
   "outputs": [
    {
     "data": {
      "text/html": [
       "<div>\n",
       "<style scoped>\n",
       "    .dataframe tbody tr th:only-of-type {\n",
       "        vertical-align: middle;\n",
       "    }\n",
       "\n",
       "    .dataframe tbody tr th {\n",
       "        vertical-align: top;\n",
       "    }\n",
       "\n",
       "    .dataframe thead th {\n",
       "        text-align: right;\n",
       "    }\n",
       "</style>\n",
       "<table border=\"1\" class=\"dataframe\">\n",
       "  <thead>\n",
       "    <tr style=\"text-align: right;\">\n",
       "      <th></th>\n",
       "      <th>temp_air</th>\n",
       "      <th>wind_speed</th>\n",
       "      <th>wind_dir</th>\n",
       "      <th>ghi</th>\n",
       "      <th>dni</th>\n",
       "      <th>dhi</th>\n",
       "      <th>ghi30</th>\n",
       "      <th>ref_cell_30</th>\n",
       "      <th>pressure</th>\n",
       "      <th>humidity</th>\n",
       "      <th>apparent_zenith</th>\n",
       "      <th>zenith</th>\n",
       "      <th>apparent_elevation</th>\n",
       "      <th>elevation</th>\n",
       "      <th>azimuth</th>\n",
       "      <th>equation_of_time</th>\n",
       "    </tr>\n",
       "    <tr>\n",
       "      <th>Date UTC</th>\n",
       "      <th></th>\n",
       "      <th></th>\n",
       "      <th></th>\n",
       "      <th></th>\n",
       "      <th></th>\n",
       "      <th></th>\n",
       "      <th></th>\n",
       "      <th></th>\n",
       "      <th></th>\n",
       "      <th></th>\n",
       "      <th></th>\n",
       "      <th></th>\n",
       "      <th></th>\n",
       "      <th></th>\n",
       "      <th></th>\n",
       "      <th></th>\n",
       "    </tr>\n",
       "  </thead>\n",
       "  <tbody>\n",
       "    <tr>\n",
       "      <th>2019-01-01 00:00:00</th>\n",
       "      <td>4.39</td>\n",
       "      <td>1.87</td>\n",
       "      <td>230.1</td>\n",
       "      <td>-0.83</td>\n",
       "      <td>0.0</td>\n",
       "      <td>-0.83</td>\n",
       "      <td>-1.17</td>\n",
       "      <td>0.0</td>\n",
       "      <td>1004.92</td>\n",
       "      <td>86.8</td>\n",
       "      <td>157.028814</td>\n",
       "      <td>157.028814</td>\n",
       "      <td>-67.028814</td>\n",
       "      <td>-67.028814</td>\n",
       "      <td>12.053823</td>\n",
       "      <td>-3.195874</td>\n",
       "    </tr>\n",
       "    <tr>\n",
       "      <th>2019-01-01 01:00:00</th>\n",
       "      <td>4.33</td>\n",
       "      <td>2.87</td>\n",
       "      <td>228.9</td>\n",
       "      <td>-0.93</td>\n",
       "      <td>0.0</td>\n",
       "      <td>-0.83</td>\n",
       "      <td>-1.06</td>\n",
       "      <td>0.0</td>\n",
       "      <td>1004.94</td>\n",
       "      <td>86.8</td>\n",
       "      <td>152.142520</td>\n",
       "      <td>152.142520</td>\n",
       "      <td>-62.142520</td>\n",
       "      <td>-62.142520</td>\n",
       "      <td>42.533373</td>\n",
       "      <td>-3.215687</td>\n",
       "    </tr>\n",
       "    <tr>\n",
       "      <th>2019-01-01 02:00:00</th>\n",
       "      <td>4.29</td>\n",
       "      <td>2.86</td>\n",
       "      <td>229.4</td>\n",
       "      <td>-0.83</td>\n",
       "      <td>0.0</td>\n",
       "      <td>-0.83</td>\n",
       "      <td>-1.17</td>\n",
       "      <td>0.0</td>\n",
       "      <td>1004.68</td>\n",
       "      <td>86.7</td>\n",
       "      <td>143.742340</td>\n",
       "      <td>143.742340</td>\n",
       "      <td>-53.742340</td>\n",
       "      <td>-53.742340</td>\n",
       "      <td>63.390006</td>\n",
       "      <td>-3.235491</td>\n",
       "    </tr>\n",
       "    <tr>\n",
       "      <th>2019-01-01 03:00:00</th>\n",
       "      <td>4.15</td>\n",
       "      <td>2.04</td>\n",
       "      <td>186.0</td>\n",
       "      <td>-0.83</td>\n",
       "      <td>0.0</td>\n",
       "      <td>-0.83</td>\n",
       "      <td>-1.06</td>\n",
       "      <td>0.0</td>\n",
       "      <td>1003.99</td>\n",
       "      <td>85.7</td>\n",
       "      <td>133.848157</td>\n",
       "      <td>133.848157</td>\n",
       "      <td>-43.848157</td>\n",
       "      <td>-43.848157</td>\n",
       "      <td>78.092116</td>\n",
       "      <td>-3.255288</td>\n",
       "    </tr>\n",
       "    <tr>\n",
       "      <th>2019-01-01 04:00:00</th>\n",
       "      <td>3.85</td>\n",
       "      <td>1.91</td>\n",
       "      <td>200.9</td>\n",
       "      <td>-0.72</td>\n",
       "      <td>0.0</td>\n",
       "      <td>-0.83</td>\n",
       "      <td>-0.85</td>\n",
       "      <td>0.0</td>\n",
       "      <td>1003.76</td>\n",
       "      <td>87.5</td>\n",
       "      <td>123.435454</td>\n",
       "      <td>123.435454</td>\n",
       "      <td>-33.435454</td>\n",
       "      <td>-33.435454</td>\n",
       "      <td>89.729489</td>\n",
       "      <td>-3.275076</td>\n",
       "    </tr>\n",
       "  </tbody>\n",
       "</table>\n",
       "</div>"
      ],
      "text/plain": [
       "                     temp_air  wind_speed  wind_dir   ghi  dni   dhi  ghi30  \\\n",
       "Date UTC                                                                      \n",
       "2019-01-01 00:00:00      4.39        1.87     230.1 -0.83  0.0 -0.83  -1.17   \n",
       "2019-01-01 01:00:00      4.33        2.87     228.9 -0.93  0.0 -0.83  -1.06   \n",
       "2019-01-01 02:00:00      4.29        2.86     229.4 -0.83  0.0 -0.83  -1.17   \n",
       "2019-01-01 03:00:00      4.15        2.04     186.0 -0.83  0.0 -0.83  -1.06   \n",
       "2019-01-01 04:00:00      3.85        1.91     200.9 -0.72  0.0 -0.83  -0.85   \n",
       "\n",
       "                     ref_cell_30  pressure  humidity  apparent_zenith  \\\n",
       "Date UTC                                                                \n",
       "2019-01-01 00:00:00          0.0   1004.92      86.8       157.028814   \n",
       "2019-01-01 01:00:00          0.0   1004.94      86.8       152.142520   \n",
       "2019-01-01 02:00:00          0.0   1004.68      86.7       143.742340   \n",
       "2019-01-01 03:00:00          0.0   1003.99      85.7       133.848157   \n",
       "2019-01-01 04:00:00          0.0   1003.76      87.5       123.435454   \n",
       "\n",
       "                         zenith  apparent_elevation  elevation    azimuth  \\\n",
       "Date UTC                                                                    \n",
       "2019-01-01 00:00:00  157.028814          -67.028814 -67.028814  12.053823   \n",
       "2019-01-01 01:00:00  152.142520          -62.142520 -62.142520  42.533373   \n",
       "2019-01-01 02:00:00  143.742340          -53.742340 -53.742340  63.390006   \n",
       "2019-01-01 03:00:00  133.848157          -43.848157 -43.848157  78.092116   \n",
       "2019-01-01 04:00:00  123.435454          -33.435454 -33.435454  89.729489   \n",
       "\n",
       "                     equation_of_time  \n",
       "Date UTC                               \n",
       "2019-01-01 00:00:00         -3.195874  \n",
       "2019-01-01 01:00:00         -3.215687  \n",
       "2019-01-01 02:00:00         -3.235491  \n",
       "2019-01-01 03:00:00         -3.255288  \n",
       "2019-01-01 04:00:00         -3.275076  "
      ]
     },
     "execution_count": null,
     "metadata": {},
     "output_type": "execute_result"
    }
   ],
   "source": [
    "fname = 'sample_data.hdf'\n",
    "df = pd.read_hdf(DATAPATH/fname)\n",
    "df.head()"
   ]
  },
  {
   "cell_type": "markdown",
   "metadata": {},
   "source": [
    "## Defining the system\n",
    "To quickly define a system, we create a method that will take care of the right naming and convenctions."
   ]
  },
  {
   "cell_type": "code",
   "execution_count": null,
   "metadata": {},
   "outputs": [],
   "source": [
    "#export\n",
    "def system_def(albedo: float=0.4, \n",
    "               n_modules_vertically: int=2, \n",
    "               module_size: tuple=(1.69,1.01), \n",
    "               h_ground: float=1,\n",
    "               surface_tilt: int=38,\n",
    "               axis_azimuth: int=0,\n",
    "               surface_azimuth: int=180,\n",
    "               n_pvrows: int=1,\n",
    "               tracking: bool=False,\n",
    "               gcr: float=0.5):\n",
    "    \"A wrapper function to define the pvfactors pvarray_parameters dictionary\"\n",
    "    w_m, h_m = module_size  #width x height of module\n",
    "    if not tracking: h_center = h_ground + np.sin(2*np.pi*surface_tilt/360)*h_m\n",
    "    else: h_center = h_ground\n",
    "    pvarray_parameters = {\n",
    "        'n_pvrows': n_pvrows,            # number of pv rows\n",
    "        'pvrow_height': h_center,        # height of pvrows (measured at center / torque tube)\n",
    "        'pvrow_width': n_modules_vertically * h_m,         # width of pvrows\n",
    "        'tracking':tracking,\n",
    "        'axis_azimuth': axis_azimuth,       # azimuth angle of rotation axis\n",
    "        'surface_tilt': surface_tilt,      # tilt of the pv rows\n",
    "        'surface_azimuth': surface_azimuth,   # azimuth of the pv rows front surface\n",
    "        'albedo':albedo,\n",
    "        'gcr': gcr,               # ground coverage ratio,\n",
    "        'rho_front_pvrow': 0.075,  # pv row front surface reflectivity\n",
    "        'rho_back_pvrow': 0.075,    # pv row back surface reflectivity\n",
    "        'cut':{\n",
    "            i: {'front': 1,'back': 7} for i in range(n_pvrows) # discretize the front  PV row into 1 segments and back in 7\n",
    "    }\n",
    "    }\n",
    "    return pvarray_parameters"
   ]
  },
  {
   "cell_type": "code",
   "execution_count": null,
   "metadata": {},
   "outputs": [
    {
     "data": {
      "text/plain": [
       "{'n_pvrows': 1,\n",
       " 'pvrow_height': 1.6218180900789148,\n",
       " 'pvrow_width': 2.02,\n",
       " 'tracking': False,\n",
       " 'axis_azimuth': 0,\n",
       " 'surface_tilt': 38,\n",
       " 'surface_azimuth': 180,\n",
       " 'albedo': 0.4,\n",
       " 'gcr': 0.5,\n",
       " 'rho_front_pvrow': 0.075,\n",
       " 'rho_back_pvrow': 0.075,\n",
       " 'cut': {0: {'front': 1, 'back': 7}}}"
      ]
     },
     "execution_count": null,
     "metadata": {},
     "output_type": "execute_result"
    }
   ],
   "source": [
    "pvarray_params = system_def(); pvarray_params"
   ]
  },
  {
   "cell_type": "code",
   "execution_count": null,
   "metadata": {},
   "outputs": [
    {
     "data": {
      "text/html": [
       "<div>\n",
       "<style scoped>\n",
       "    .dataframe tbody tr th:only-of-type {\n",
       "        vertical-align: middle;\n",
       "    }\n",
       "\n",
       "    .dataframe tbody tr th {\n",
       "        vertical-align: top;\n",
       "    }\n",
       "\n",
       "    .dataframe thead th {\n",
       "        text-align: right;\n",
       "    }\n",
       "</style>\n",
       "<table border=\"1\" class=\"dataframe\">\n",
       "  <thead>\n",
       "    <tr style=\"text-align: right;\">\n",
       "      <th></th>\n",
       "      <th>temp_air</th>\n",
       "      <th>wind_speed</th>\n",
       "      <th>wind_dir</th>\n",
       "      <th>ghi</th>\n",
       "      <th>dni</th>\n",
       "      <th>dhi</th>\n",
       "      <th>ghi30</th>\n",
       "      <th>ref_cell_30</th>\n",
       "      <th>pressure</th>\n",
       "      <th>humidity</th>\n",
       "      <th>apparent_zenith</th>\n",
       "      <th>zenith</th>\n",
       "      <th>apparent_elevation</th>\n",
       "      <th>elevation</th>\n",
       "      <th>azimuth</th>\n",
       "      <th>equation_of_time</th>\n",
       "    </tr>\n",
       "    <tr>\n",
       "      <th>Date UTC</th>\n",
       "      <th></th>\n",
       "      <th></th>\n",
       "      <th></th>\n",
       "      <th></th>\n",
       "      <th></th>\n",
       "      <th></th>\n",
       "      <th></th>\n",
       "      <th></th>\n",
       "      <th></th>\n",
       "      <th></th>\n",
       "      <th></th>\n",
       "      <th></th>\n",
       "      <th></th>\n",
       "      <th></th>\n",
       "      <th></th>\n",
       "      <th></th>\n",
       "    </tr>\n",
       "  </thead>\n",
       "  <tbody>\n",
       "    <tr>\n",
       "      <th>2019-01-01 00:00:00</th>\n",
       "      <td>4.39</td>\n",
       "      <td>1.87</td>\n",
       "      <td>230.10</td>\n",
       "      <td>-0.83</td>\n",
       "      <td>0.00</td>\n",
       "      <td>-0.83</td>\n",
       "      <td>-1.17</td>\n",
       "      <td>0.0</td>\n",
       "      <td>1004.92</td>\n",
       "      <td>86.8</td>\n",
       "      <td>157.028814</td>\n",
       "      <td>157.028814</td>\n",
       "      <td>-67.028814</td>\n",
       "      <td>-67.028814</td>\n",
       "      <td>12.053823</td>\n",
       "      <td>-3.195874</td>\n",
       "    </tr>\n",
       "    <tr>\n",
       "      <th>2019-01-01 01:00:00</th>\n",
       "      <td>4.33</td>\n",
       "      <td>2.87</td>\n",
       "      <td>228.90</td>\n",
       "      <td>-0.93</td>\n",
       "      <td>0.00</td>\n",
       "      <td>-0.83</td>\n",
       "      <td>-1.06</td>\n",
       "      <td>0.0</td>\n",
       "      <td>1004.94</td>\n",
       "      <td>86.8</td>\n",
       "      <td>152.142520</td>\n",
       "      <td>152.142520</td>\n",
       "      <td>-62.142520</td>\n",
       "      <td>-62.142520</td>\n",
       "      <td>42.533373</td>\n",
       "      <td>-3.215687</td>\n",
       "    </tr>\n",
       "    <tr>\n",
       "      <th>2019-01-01 02:00:00</th>\n",
       "      <td>4.29</td>\n",
       "      <td>2.86</td>\n",
       "      <td>229.40</td>\n",
       "      <td>-0.83</td>\n",
       "      <td>0.00</td>\n",
       "      <td>-0.83</td>\n",
       "      <td>-1.17</td>\n",
       "      <td>0.0</td>\n",
       "      <td>1004.68</td>\n",
       "      <td>86.7</td>\n",
       "      <td>143.742340</td>\n",
       "      <td>143.742340</td>\n",
       "      <td>-53.742340</td>\n",
       "      <td>-53.742340</td>\n",
       "      <td>63.390006</td>\n",
       "      <td>-3.235491</td>\n",
       "    </tr>\n",
       "    <tr>\n",
       "      <th>2019-01-01 03:00:00</th>\n",
       "      <td>4.15</td>\n",
       "      <td>2.04</td>\n",
       "      <td>186.00</td>\n",
       "      <td>-0.83</td>\n",
       "      <td>0.00</td>\n",
       "      <td>-0.83</td>\n",
       "      <td>-1.06</td>\n",
       "      <td>0.0</td>\n",
       "      <td>1003.99</td>\n",
       "      <td>85.7</td>\n",
       "      <td>133.848157</td>\n",
       "      <td>133.848157</td>\n",
       "      <td>-43.848157</td>\n",
       "      <td>-43.848157</td>\n",
       "      <td>78.092116</td>\n",
       "      <td>-3.255288</td>\n",
       "    </tr>\n",
       "    <tr>\n",
       "      <th>2019-01-01 04:00:00</th>\n",
       "      <td>3.85</td>\n",
       "      <td>1.91</td>\n",
       "      <td>200.90</td>\n",
       "      <td>-0.72</td>\n",
       "      <td>0.00</td>\n",
       "      <td>-0.83</td>\n",
       "      <td>-0.85</td>\n",
       "      <td>0.0</td>\n",
       "      <td>1003.76</td>\n",
       "      <td>87.5</td>\n",
       "      <td>123.435454</td>\n",
       "      <td>123.435454</td>\n",
       "      <td>-33.435454</td>\n",
       "      <td>-33.435454</td>\n",
       "      <td>89.729489</td>\n",
       "      <td>-3.275076</td>\n",
       "    </tr>\n",
       "    <tr>\n",
       "      <th>...</th>\n",
       "      <td>...</td>\n",
       "      <td>...</td>\n",
       "      <td>...</td>\n",
       "      <td>...</td>\n",
       "      <td>...</td>\n",
       "      <td>...</td>\n",
       "      <td>...</td>\n",
       "      <td>...</td>\n",
       "      <td>...</td>\n",
       "      <td>...</td>\n",
       "      <td>...</td>\n",
       "      <td>...</td>\n",
       "      <td>...</td>\n",
       "      <td>...</td>\n",
       "      <td>...</td>\n",
       "      <td>...</td>\n",
       "    </tr>\n",
       "    <tr>\n",
       "      <th>2019-12-31 19:00:00</th>\n",
       "      <td>-0.84</td>\n",
       "      <td>0.78</td>\n",
       "      <td>23.88</td>\n",
       "      <td>-1.36</td>\n",
       "      <td>0.09</td>\n",
       "      <td>-1.36</td>\n",
       "      <td>-2.09</td>\n",
       "      <td>-0.1</td>\n",
       "      <td>1005.05</td>\n",
       "      <td>100.0</td>\n",
       "      <td>120.109907</td>\n",
       "      <td>120.109907</td>\n",
       "      <td>-30.109907</td>\n",
       "      <td>-30.109907</td>\n",
       "      <td>266.843772</td>\n",
       "      <td>-2.982273</td>\n",
       "    </tr>\n",
       "    <tr>\n",
       "      <th>2019-12-31 20:00:00</th>\n",
       "      <td>-0.70</td>\n",
       "      <td>0.16</td>\n",
       "      <td>193.80</td>\n",
       "      <td>-1.36</td>\n",
       "      <td>-0.09</td>\n",
       "      <td>-1.48</td>\n",
       "      <td>-1.76</td>\n",
       "      <td>-0.1</td>\n",
       "      <td>1005.08</td>\n",
       "      <td>100.0</td>\n",
       "      <td>130.567903</td>\n",
       "      <td>130.567903</td>\n",
       "      <td>-40.567903</td>\n",
       "      <td>-40.567903</td>\n",
       "      <td>277.905352</td>\n",
       "      <td>-3.002181</td>\n",
       "    </tr>\n",
       "    <tr>\n",
       "      <th>2019-12-31 21:00:00</th>\n",
       "      <td>-1.24</td>\n",
       "      <td>0.42</td>\n",
       "      <td>156.60</td>\n",
       "      <td>-1.48</td>\n",
       "      <td>-0.09</td>\n",
       "      <td>-1.63</td>\n",
       "      <td>-1.76</td>\n",
       "      <td>0.0</td>\n",
       "      <td>1004.99</td>\n",
       "      <td>100.0</td>\n",
       "      <td>140.699448</td>\n",
       "      <td>140.699448</td>\n",
       "      <td>-50.699448</td>\n",
       "      <td>-50.699448</td>\n",
       "      <td>291.371504</td>\n",
       "      <td>-3.022080</td>\n",
       "    </tr>\n",
       "    <tr>\n",
       "      <th>2019-12-31 22:00:00</th>\n",
       "      <td>-0.95</td>\n",
       "      <td>0.82</td>\n",
       "      <td>185.40</td>\n",
       "      <td>-1.36</td>\n",
       "      <td>0.19</td>\n",
       "      <td>-1.06</td>\n",
       "      <td>-1.65</td>\n",
       "      <td>0.0</td>\n",
       "      <td>1004.65</td>\n",
       "      <td>100.0</td>\n",
       "      <td>149.735013</td>\n",
       "      <td>149.735013</td>\n",
       "      <td>-59.735013</td>\n",
       "      <td>-59.735013</td>\n",
       "      <td>309.824457</td>\n",
       "      <td>-3.041970</td>\n",
       "    </tr>\n",
       "    <tr>\n",
       "      <th>2019-12-31 23:00:00</th>\n",
       "      <td>1.46</td>\n",
       "      <td>2.88</td>\n",
       "      <td>18.92</td>\n",
       "      <td>-1.23</td>\n",
       "      <td>-0.09</td>\n",
       "      <td>-1.13</td>\n",
       "      <td>-1.65</td>\n",
       "      <td>0.1</td>\n",
       "      <td>1004.61</td>\n",
       "      <td>100.0</td>\n",
       "      <td>156.040645</td>\n",
       "      <td>156.040645</td>\n",
       "      <td>-66.040645</td>\n",
       "      <td>-66.040645</td>\n",
       "      <td>337.110537</td>\n",
       "      <td>-3.061851</td>\n",
       "    </tr>\n",
       "  </tbody>\n",
       "</table>\n",
       "<p>8760 rows × 16 columns</p>\n",
       "</div>"
      ],
      "text/plain": [
       "                     temp_air  wind_speed  wind_dir   ghi   dni   dhi  ghi30  \\\n",
       "Date UTC                                                                       \n",
       "2019-01-01 00:00:00      4.39        1.87    230.10 -0.83  0.00 -0.83  -1.17   \n",
       "2019-01-01 01:00:00      4.33        2.87    228.90 -0.93  0.00 -0.83  -1.06   \n",
       "2019-01-01 02:00:00      4.29        2.86    229.40 -0.83  0.00 -0.83  -1.17   \n",
       "2019-01-01 03:00:00      4.15        2.04    186.00 -0.83  0.00 -0.83  -1.06   \n",
       "2019-01-01 04:00:00      3.85        1.91    200.90 -0.72  0.00 -0.83  -0.85   \n",
       "...                       ...         ...       ...   ...   ...   ...    ...   \n",
       "2019-12-31 19:00:00     -0.84        0.78     23.88 -1.36  0.09 -1.36  -2.09   \n",
       "2019-12-31 20:00:00     -0.70        0.16    193.80 -1.36 -0.09 -1.48  -1.76   \n",
       "2019-12-31 21:00:00     -1.24        0.42    156.60 -1.48 -0.09 -1.63  -1.76   \n",
       "2019-12-31 22:00:00     -0.95        0.82    185.40 -1.36  0.19 -1.06  -1.65   \n",
       "2019-12-31 23:00:00      1.46        2.88     18.92 -1.23 -0.09 -1.13  -1.65   \n",
       "\n",
       "                     ref_cell_30  pressure  humidity  apparent_zenith  \\\n",
       "Date UTC                                                                \n",
       "2019-01-01 00:00:00          0.0   1004.92      86.8       157.028814   \n",
       "2019-01-01 01:00:00          0.0   1004.94      86.8       152.142520   \n",
       "2019-01-01 02:00:00          0.0   1004.68      86.7       143.742340   \n",
       "2019-01-01 03:00:00          0.0   1003.99      85.7       133.848157   \n",
       "2019-01-01 04:00:00          0.0   1003.76      87.5       123.435454   \n",
       "...                          ...       ...       ...              ...   \n",
       "2019-12-31 19:00:00         -0.1   1005.05     100.0       120.109907   \n",
       "2019-12-31 20:00:00         -0.1   1005.08     100.0       130.567903   \n",
       "2019-12-31 21:00:00          0.0   1004.99     100.0       140.699448   \n",
       "2019-12-31 22:00:00          0.0   1004.65     100.0       149.735013   \n",
       "2019-12-31 23:00:00          0.1   1004.61     100.0       156.040645   \n",
       "\n",
       "                         zenith  apparent_elevation  elevation     azimuth  \\\n",
       "Date UTC                                                                     \n",
       "2019-01-01 00:00:00  157.028814          -67.028814 -67.028814   12.053823   \n",
       "2019-01-01 01:00:00  152.142520          -62.142520 -62.142520   42.533373   \n",
       "2019-01-01 02:00:00  143.742340          -53.742340 -53.742340   63.390006   \n",
       "2019-01-01 03:00:00  133.848157          -43.848157 -43.848157   78.092116   \n",
       "2019-01-01 04:00:00  123.435454          -33.435454 -33.435454   89.729489   \n",
       "...                         ...                 ...        ...         ...   \n",
       "2019-12-31 19:00:00  120.109907          -30.109907 -30.109907  266.843772   \n",
       "2019-12-31 20:00:00  130.567903          -40.567903 -40.567903  277.905352   \n",
       "2019-12-31 21:00:00  140.699448          -50.699448 -50.699448  291.371504   \n",
       "2019-12-31 22:00:00  149.735013          -59.735013 -59.735013  309.824457   \n",
       "2019-12-31 23:00:00  156.040645          -66.040645 -66.040645  337.110537   \n",
       "\n",
       "                     equation_of_time  \n",
       "Date UTC                               \n",
       "2019-01-01 00:00:00         -3.195874  \n",
       "2019-01-01 01:00:00         -3.215687  \n",
       "2019-01-01 02:00:00         -3.235491  \n",
       "2019-01-01 03:00:00         -3.255288  \n",
       "2019-01-01 04:00:00         -3.275076  \n",
       "...                               ...  \n",
       "2019-12-31 19:00:00         -2.982273  \n",
       "2019-12-31 20:00:00         -3.002181  \n",
       "2019-12-31 21:00:00         -3.022080  \n",
       "2019-12-31 22:00:00         -3.041970  \n",
       "2019-12-31 23:00:00         -3.061851  \n",
       "\n",
       "[8760 rows x 16 columns]"
      ]
     },
     "execution_count": null,
     "metadata": {},
     "output_type": "execute_result"
    }
   ],
   "source": [
    "df"
   ]
  },
  {
   "cell_type": "markdown",
   "metadata": {},
   "source": [
    "Handy function to get back indxes of dates"
   ]
  },
  {
   "cell_type": "code",
   "execution_count": null,
   "metadata": {},
   "outputs": [],
   "source": [
    "#export\n",
    "def get_index(df, date): return df.index.get_loc(date)"
   ]
  },
  {
   "cell_type": "code",
   "execution_count": null,
   "metadata": {},
   "outputs": [
    {
     "data": {
      "text/plain": [
       "4116"
      ]
     },
     "execution_count": null,
     "metadata": {},
     "output_type": "execute_result"
    }
   ],
   "source": [
    "date = '12h 21 Jun 2019'\n",
    "get_index(df, date)"
   ]
  },
  {
   "cell_type": "code",
   "execution_count": null,
   "metadata": {},
   "outputs": [
    {
     "data": {
      "text/plain": [
       "temp_air               25.320000\n",
       "wind_speed              2.250000\n",
       "wind_dir               51.160000\n",
       "ghi                   388.440000\n",
       "dni                     2.050000\n",
       "dhi                   389.870000\n",
       "ghi30                 380.150000\n",
       "ref_cell_30           371.430000\n",
       "pressure              988.020000\n",
       "humidity               58.770000\n",
       "apparent_zenith        22.637173\n",
       "zenith                 22.637242\n",
       "apparent_elevation     67.362827\n",
       "elevation              67.362758\n",
       "azimuth               193.074028\n",
       "equation_of_time       -1.740346\n",
       "Name: 2019-06-21 12:00:00, dtype: float64"
      ]
     },
     "execution_count": null,
     "metadata": {},
     "output_type": "execute_result"
    }
   ],
   "source": [
    "data_idx = df.loc[date]\n",
    "data_idx"
   ]
  },
  {
   "cell_type": "markdown",
   "metadata": {},
   "source": [
    "Note that `surface_azimuth` and `surface_tilt` can be variable (i.e. one for each timestep)"
   ]
  },
  {
   "cell_type": "code",
   "execution_count": null,
   "metadata": {},
   "outputs": [],
   "source": [
    "params = {'axis_azimuth': pvarray_params['axis_azimuth'],\n",
    "         'gcr': pvarray_params['gcr'],\n",
    "         'n_pvrows': pvarray_params['n_pvrows'],\n",
    "         'pvrow_height': pvarray_params['pvrow_height'],\n",
    "         'pvrow_width': pvarray_params['pvrow_width'],\n",
    "         'solar_azimuth': data_idx['azimuth'],\n",
    "         'solar_zenith': data_idx['zenith'],\n",
    "         'surface_azimuth': pvarray_params['surface_azimuth'],\n",
    "         'surface_tilt': pvarray_params['surface_tilt'],\n",
    "         'cut':pvarray_params['cut']}"
   ]
  },
  {
   "cell_type": "code",
   "execution_count": null,
   "metadata": {},
   "outputs": [
    {
     "data": {
      "text/markdown": [
       "<h2 id=\"OrderedPVArray\" class=\"doc_header\"><code>class</code> <code>OrderedPVArray</code><a href=\"pvfactors/geometry/pvarray.py#L12\" class=\"source_link\" style=\"float:right\">[source]</a></h2>\n",
       "\n",
       "> <code>OrderedPVArray</code>(**`axis_azimuth`**=*`None`*, **`gcr`**=*`None`*, **`pvrow_height`**=*`None`*, **`n_pvrows`**=*`None`*, **`pvrow_width`**=*`None`*, **`param_names`**=*`None`*, **`cut`**=*`None`*) :: `BasePVArray`\n",
       "\n",
       "An ordered PV array has a flat horizontal ground, and pv rows which\n",
       "are all at the same height, with the same surface tilt and azimuth angles,\n",
       "and also all equally spaced. These simplifications allow faster and easier\n",
       "calculations. In the ordered PV array, the list of PV rows must be\n",
       "ordered from left to right (along the x-axis) in the 2D geometry."
      ],
      "text/plain": [
       "<IPython.core.display.Markdown object>"
      ]
     },
     "metadata": {},
     "output_type": "display_data"
    }
   ],
   "source": [
    "show_doc(OrderedPVArray)"
   ]
  },
  {
   "cell_type": "markdown",
   "metadata": {},
   "source": [
    "This is like running a simulatino for 1 timestep,\n",
    "- `pvarray`: It is a structure to hold the parameters and the meteorological info. Can hold full timeseries or just one timestep."
   ]
  },
  {
   "cell_type": "code",
   "execution_count": null,
   "metadata": {},
   "outputs": [],
   "source": [
    "pvarray = OrderedPVArray.fit_from_dict_of_scalars(params)"
   ]
  },
  {
   "cell_type": "markdown",
   "metadata": {},
   "source": [
    "It has a handy method to plot at a given timestep:"
   ]
  },
  {
   "cell_type": "code",
   "execution_count": null,
   "metadata": {},
   "outputs": [
    {
     "data": {
      "text/markdown": [
       "<h4 id=\"BasePVArray.plot_at_idx\" class=\"doc_header\"><code>BasePVArray.plot_at_idx</code><a href=\"pvfactors/geometry/base.py#L1177\" class=\"source_link\" style=\"float:right\">[source]</a></h4>\n",
       "\n",
       "> <code>BasePVArray.plot_at_idx</code>(**`idx`**, **`ax`**, **`merge_if_flag_overlap`**=*`True`*, **`with_cut_points`**=*`True`*, **`x_min_max`**=*`None`*, **`with_surface_index`**=*`False`*)\n",
       "\n",
       "Plot all the PV rows and the ground in the PV array at a desired\n",
       "step index. This can be called before transforming the array, and\n",
       "after fitting it.\n",
       "\n",
       "Parameters\n",
       "----------\n",
       "idx : int\n",
       "    Selected timestep index for plotting the PV array\n",
       "ax : :py:class:`matplotlib.pyplot.axes` object\n",
       "    Axes for plotting the PV array geometries\n",
       "merge_if_flag_overlap : bool, optional\n",
       "    Decide whether to merge all shadows if they overlap\n",
       "    (Default = True)\n",
       "with_cut_points :  bool, optional\n",
       "    Decide whether to include the saved cut points in the created\n",
       "    PV ground geometry (Default = True)\n",
       "x_min_max : tuple, optional\n",
       "    List of minimum and maximum x coordinates for the flat ground\n",
       "    surface [m] (Default = None)\n",
       "with_surface_index : bool, optional\n",
       "    Plot the surfaces with their index values (Default = False)"
      ],
      "text/plain": [
       "<IPython.core.display.Markdown object>"
      ]
     },
     "metadata": {},
     "output_type": "display_data"
    }
   ],
   "source": [
    "show_doc(pvarray.plot_at_idx)"
   ]
  },
  {
   "cell_type": "code",
   "execution_count": null,
   "metadata": {},
   "outputs": [
    {
     "data": {
      "image/png": "[encoded data removed]",
      "text/plain": [
       "<Figure size 720x216 with 1 Axes>"
      ]
     },
     "metadata": {
      "needs_background": "light"
     },
     "output_type": "display_data"
    }
   ],
   "source": [
    "f, ax = plt.subplots(figsize=(10, 3))\n",
    "pvarray.plot_at_idx(0, ax, with_surface_index=True)\n",
    "ax.set_title(df.index[0])\n",
    "plt.show()"
   ]
  },
  {
   "cell_type": "markdown",
   "metadata": {},
   "source": [
    "this is very useful, so we will wrap it up on a function."
   ]
  },
  {
   "cell_type": "code",
   "execution_count": null,
   "metadata": {},
   "outputs": [],
   "source": [
    "#export\n",
    "def plot_idx(pvarray, idx=4550, with_index=False, figsize=(10,3)):\n",
    "    \"Plot a pvarray at idx\"\n",
    "    f, ax = plt.subplots(figsize=figsize)\n",
    "    pvarray.plot_at_idx(idx, ax, with_surface_index=with_index)\n",
    "    ax.set_xlim(-5, 5)\n",
    "    return ax"
   ]
  },
  {
   "cell_type": "markdown",
   "metadata": {},
   "source": [
    "we will need a fit method together to plot:"
   ]
  },
  {
   "cell_type": "code",
   "execution_count": null,
   "metadata": {},
   "outputs": [],
   "source": [
    "#export\n",
    "def fit_and_plot(data:DataFrame, pvarray_parameters:dict, date:Union[str, int], with_index:bool=False):\n",
    "    \"Method to debug a pvfactors pvarray, plots the model at idx\"\n",
    "    data_idx = df.loc[date] if type(date) is str else df.iloc[date]\n",
    "    params = {'axis_azimuth': pvarray_params['axis_azimuth'],\n",
    "             'gcr': pvarray_params['gcr'],\n",
    "             'n_pvrows': pvarray_params['n_pvrows'],\n",
    "             'pvrow_height': pvarray_params['pvrow_height'],\n",
    "             'pvrow_width': pvarray_params['pvrow_width'],\n",
    "             'solar_azimuth': data_idx['azimuth'],\n",
    "             'solar_zenith': data_idx['zenith'],\n",
    "             'surface_azimuth': pvarray_params['surface_azimuth'],\n",
    "             'surface_tilt': pvarray_params['surface_tilt'],\n",
    "             'cut':pvarray_params['cut']}\n",
    "    pvarray = OrderedPVArray.fit_from_dict_of_scalars(params)\n",
    "    ax = plot_idx(pvarray, 0, with_index)\n",
    "    if type(date) is int:\n",
    "        date = df.index[date]\n",
    "        date = f'{date.hour}h {date.day} {date.month_name()[0:3]} {date.year}'\n",
    "    ax.set_title(date)\n",
    "    return pvarray"
   ]
  },
  {
   "cell_type": "code",
   "execution_count": null,
   "metadata": {},
   "outputs": [
    {
     "data": {
      "image/png": "[encoded data removed]",
      "text/plain": [
       "<Figure size 720x216 with 1 Axes>"
      ]
     },
     "metadata": {
      "needs_background": "light"
     },
     "output_type": "display_data"
    }
   ],
   "source": [
    "pvarray = fit_and_plot(df, pvarray_params, '13h 14 Jun 2019')"
   ]
  },
  {
   "cell_type": "markdown",
   "metadata": {},
   "source": [
    "You can also call it with an index"
   ]
  },
  {
   "cell_type": "code",
   "execution_count": null,
   "metadata": {},
   "outputs": [
    {
     "data": {
      "image/png": "[encoded data removed]",
      "text/plain": [
       "<Figure size 720x216 with 1 Axes>"
      ]
     },
     "metadata": {
      "needs_background": "light"
     },
     "output_type": "display_data"
    }
   ],
   "source": [
    "pvarray = fit_and_plot(df, pvarray_params, 45)"
   ]
  },
  {
   "cell_type": "code",
   "execution_count": null,
   "metadata": {},
   "outputs": [],
   "source": [
    "#export\n",
    "def join_sun(tmy_data: DataFrame, sunpos:DataFrame, pvarray_params:dict)->DataFrame:\n",
    "    \"Concats meteo data with sunpos\"\n",
    "    data = pd.DataFrame(index=tmy_data.index)\n",
    "    data['ghi'] = tmy_data.ghi\n",
    "    data['dni'] = tmy_data.dni\n",
    "    data['dhi'] = tmy_data.dhi\n",
    "    data['zenith'] = sunpos.zenith\n",
    "    data['azimuth'] = sunpos.azimuth\n",
    "    data['elevation'] = sunpos.elevation\n",
    "    data['surface_tilt'] = pvarray_params['surface_tilt']\n",
    "    data['surface_azimuth'] = pvarray_params['surface_azimuth']\n",
    "    data['albedo'] =  pvarray_params['albedo']\n",
    "    #doing some patching\n",
    "    idxs = (data.zenith<90) & (data.ghi<10)\n",
    "    data.loc[idxs, 'zenith'] = 91.\n",
    "    return data"
   ]
  },
  {
   "cell_type": "code",
   "execution_count": null,
   "metadata": {},
   "outputs": [],
   "source": [
    "meteo_cols = ['temp_air', 'wind_speed', 'wind_dir', 'ghi', 'dni', 'dhi', 'ghi30',\n",
    "              'ref_cell_30', 'pressure', 'humidity']\n",
    "sunpos_cols = ['apparent_zenith', 'zenith', 'apparent_elevation', 'elevation', \n",
    "               'azimuth', 'equation_of_time']"
   ]
  },
  {
   "cell_type": "code",
   "execution_count": null,
   "metadata": {},
   "outputs": [
    {
     "data": {
      "text/html": [
       "<div>\n",
       "<style scoped>\n",
       "    .dataframe tbody tr th:only-of-type {\n",
       "        vertical-align: middle;\n",
       "    }\n",
       "\n",
       "    .dataframe tbody tr th {\n",
       "        vertical-align: top;\n",
       "    }\n",
       "\n",
       "    .dataframe thead th {\n",
       "        text-align: right;\n",
       "    }\n",
       "</style>\n",
       "<table border=\"1\" class=\"dataframe\">\n",
       "  <thead>\n",
       "    <tr style=\"text-align: right;\">\n",
       "      <th></th>\n",
       "      <th>ghi</th>\n",
       "      <th>dni</th>\n",
       "      <th>dhi</th>\n",
       "      <th>zenith</th>\n",
       "      <th>azimuth</th>\n",
       "      <th>elevation</th>\n",
       "      <th>surface_tilt</th>\n",
       "      <th>surface_azimuth</th>\n",
       "      <th>albedo</th>\n",
       "    </tr>\n",
       "    <tr>\n",
       "      <th>Date UTC</th>\n",
       "      <th></th>\n",
       "      <th></th>\n",
       "      <th></th>\n",
       "      <th></th>\n",
       "      <th></th>\n",
       "      <th></th>\n",
       "      <th></th>\n",
       "      <th></th>\n",
       "      <th></th>\n",
       "    </tr>\n",
       "  </thead>\n",
       "  <tbody>\n",
       "    <tr>\n",
       "      <th>2019-01-01 00:00:00</th>\n",
       "      <td>-0.83</td>\n",
       "      <td>0.00</td>\n",
       "      <td>-0.83</td>\n",
       "      <td>157.028814</td>\n",
       "      <td>12.053823</td>\n",
       "      <td>-67.028814</td>\n",
       "      <td>38</td>\n",
       "      <td>180</td>\n",
       "      <td>0.4</td>\n",
       "    </tr>\n",
       "    <tr>\n",
       "      <th>2019-01-01 01:00:00</th>\n",
       "      <td>-0.93</td>\n",
       "      <td>0.00</td>\n",
       "      <td>-0.83</td>\n",
       "      <td>152.142520</td>\n",
       "      <td>42.533373</td>\n",
       "      <td>-62.142520</td>\n",
       "      <td>38</td>\n",
       "      <td>180</td>\n",
       "      <td>0.4</td>\n",
       "    </tr>\n",
       "    <tr>\n",
       "      <th>2019-01-01 02:00:00</th>\n",
       "      <td>-0.83</td>\n",
       "      <td>0.00</td>\n",
       "      <td>-0.83</td>\n",
       "      <td>143.742340</td>\n",
       "      <td>63.390006</td>\n",
       "      <td>-53.742340</td>\n",
       "      <td>38</td>\n",
       "      <td>180</td>\n",
       "      <td>0.4</td>\n",
       "    </tr>\n",
       "    <tr>\n",
       "      <th>2019-01-01 03:00:00</th>\n",
       "      <td>-0.83</td>\n",
       "      <td>0.00</td>\n",
       "      <td>-0.83</td>\n",
       "      <td>133.848157</td>\n",
       "      <td>78.092116</td>\n",
       "      <td>-43.848157</td>\n",
       "      <td>38</td>\n",
       "      <td>180</td>\n",
       "      <td>0.4</td>\n",
       "    </tr>\n",
       "    <tr>\n",
       "      <th>2019-01-01 04:00:00</th>\n",
       "      <td>-0.72</td>\n",
       "      <td>0.00</td>\n",
       "      <td>-0.83</td>\n",
       "      <td>123.435454</td>\n",
       "      <td>89.729489</td>\n",
       "      <td>-33.435454</td>\n",
       "      <td>38</td>\n",
       "      <td>180</td>\n",
       "      <td>0.4</td>\n",
       "    </tr>\n",
       "    <tr>\n",
       "      <th>...</th>\n",
       "      <td>...</td>\n",
       "      <td>...</td>\n",
       "      <td>...</td>\n",
       "      <td>...</td>\n",
       "      <td>...</td>\n",
       "      <td>...</td>\n",
       "      <td>...</td>\n",
       "      <td>...</td>\n",
       "      <td>...</td>\n",
       "    </tr>\n",
       "    <tr>\n",
       "      <th>2019-12-31 19:00:00</th>\n",
       "      <td>-1.36</td>\n",
       "      <td>0.09</td>\n",
       "      <td>-1.36</td>\n",
       "      <td>120.109907</td>\n",
       "      <td>266.843772</td>\n",
       "      <td>-30.109907</td>\n",
       "      <td>38</td>\n",
       "      <td>180</td>\n",
       "      <td>0.4</td>\n",
       "    </tr>\n",
       "    <tr>\n",
       "      <th>2019-12-31 20:00:00</th>\n",
       "      <td>-1.36</td>\n",
       "      <td>-0.09</td>\n",
       "      <td>-1.48</td>\n",
       "      <td>130.567903</td>\n",
       "      <td>277.905352</td>\n",
       "      <td>-40.567903</td>\n",
       "      <td>38</td>\n",
       "      <td>180</td>\n",
       "      <td>0.4</td>\n",
       "    </tr>\n",
       "    <tr>\n",
       "      <th>2019-12-31 21:00:00</th>\n",
       "      <td>-1.48</td>\n",
       "      <td>-0.09</td>\n",
       "      <td>-1.63</td>\n",
       "      <td>140.699448</td>\n",
       "      <td>291.371504</td>\n",
       "      <td>-50.699448</td>\n",
       "      <td>38</td>\n",
       "      <td>180</td>\n",
       "      <td>0.4</td>\n",
       "    </tr>\n",
       "    <tr>\n",
       "      <th>2019-12-31 22:00:00</th>\n",
       "      <td>-1.36</td>\n",
       "      <td>0.19</td>\n",
       "      <td>-1.06</td>\n",
       "      <td>149.735013</td>\n",
       "      <td>309.824457</td>\n",
       "      <td>-59.735013</td>\n",
       "      <td>38</td>\n",
       "      <td>180</td>\n",
       "      <td>0.4</td>\n",
       "    </tr>\n",
       "    <tr>\n",
       "      <th>2019-12-31 23:00:00</th>\n",
       "      <td>-1.23</td>\n",
       "      <td>-0.09</td>\n",
       "      <td>-1.13</td>\n",
       "      <td>156.040645</td>\n",
       "      <td>337.110537</td>\n",
       "      <td>-66.040645</td>\n",
       "      <td>38</td>\n",
       "      <td>180</td>\n",
       "      <td>0.4</td>\n",
       "    </tr>\n",
       "  </tbody>\n",
       "</table>\n",
       "<p>8760 rows × 9 columns</p>\n",
       "</div>"
      ],
      "text/plain": [
       "                      ghi   dni   dhi      zenith     azimuth  elevation  \\\n",
       "Date UTC                                                                   \n",
       "2019-01-01 00:00:00 -0.83  0.00 -0.83  157.028814   12.053823 -67.028814   \n",
       "2019-01-01 01:00:00 -0.93  0.00 -0.83  152.142520   42.533373 -62.142520   \n",
       "2019-01-01 02:00:00 -0.83  0.00 -0.83  143.742340   63.390006 -53.742340   \n",
       "2019-01-01 03:00:00 -0.83  0.00 -0.83  133.848157   78.092116 -43.848157   \n",
       "2019-01-01 04:00:00 -0.72  0.00 -0.83  123.435454   89.729489 -33.435454   \n",
       "...                   ...   ...   ...         ...         ...        ...   \n",
       "2019-12-31 19:00:00 -1.36  0.09 -1.36  120.109907  266.843772 -30.109907   \n",
       "2019-12-31 20:00:00 -1.36 -0.09 -1.48  130.567903  277.905352 -40.567903   \n",
       "2019-12-31 21:00:00 -1.48 -0.09 -1.63  140.699448  291.371504 -50.699448   \n",
       "2019-12-31 22:00:00 -1.36  0.19 -1.06  149.735013  309.824457 -59.735013   \n",
       "2019-12-31 23:00:00 -1.23 -0.09 -1.13  156.040645  337.110537 -66.040645   \n",
       "\n",
       "                     surface_tilt  surface_azimuth  albedo  \n",
       "Date UTC                                                    \n",
       "2019-01-01 00:00:00            38              180     0.4  \n",
       "2019-01-01 01:00:00            38              180     0.4  \n",
       "2019-01-01 02:00:00            38              180     0.4  \n",
       "2019-01-01 03:00:00            38              180     0.4  \n",
       "2019-01-01 04:00:00            38              180     0.4  \n",
       "...                           ...              ...     ...  \n",
       "2019-12-31 19:00:00            38              180     0.4  \n",
       "2019-12-31 20:00:00            38              180     0.4  \n",
       "2019-12-31 21:00:00            38              180     0.4  \n",
       "2019-12-31 22:00:00            38              180     0.4  \n",
       "2019-12-31 23:00:00            38              180     0.4  \n",
       "\n",
       "[8760 rows x 9 columns]"
      ]
     },
     "execution_count": null,
     "metadata": {},
     "output_type": "execute_result"
    }
   ],
   "source": [
    "join_sun(df[meteo_cols], df[sunpos_cols], pvarray_params)"
   ]
  },
  {
   "cell_type": "markdown",
   "metadata": {},
   "source": [
    "## Formatting data for modelling\n",
    "> Maybe should be moved to capetools.data"
   ]
  },
  {
   "cell_type": "code",
   "execution_count": null,
   "metadata": {},
   "outputs": [],
   "source": [
    "#export\n",
    "def get_data(tmy_file:File, pvarray_params:dict, reader:str='pvgis', coerce_year:int=2019):\n",
    "    \"A convenience method to read PVGIS and generic tmy files\"\n",
    "    if reader == 'pvgis':\n",
    "        gps_data, _, tmy_data = read_pvgis(tmy_file, coerce_year=coerce_year)\n",
    "    else:\n",
    "        gps_data, tmy_data = read_tmy(tmy_file, coerce_year=coerce_year)\n",
    "\n",
    "    sunpos = (pvlib\n",
    "             .solarposition\n",
    "             .get_solarposition(tmy_data.index, \n",
    "                                gps_data['Latitude'], \n",
    "                                gps_data['Longitude'],\n",
    "                                gps_data['Elevation'])\n",
    "             )\n",
    "    \n",
    "    data = join_sun(tmy_data, sunpos, pvarray_params)\n",
    "    if pvarray_params['tracking']:\n",
    "        back_track = False\n",
    "        if pvarray_params['n_pvrows']>1:\n",
    "            back_track = True\n",
    "        tracking = (pvlib\n",
    "                    .tracking\n",
    "                    .singleaxis(apparent_zenith=data.zenith, \n",
    "                                apparent_azimuth=data.azimuth, \n",
    "                                axis_azimuth=pvarray_params['axis_azimuth'], \n",
    "                                backtrack=back_track,\n",
    "                                gcr=pvarray_params['gcr'])\n",
    "                    .fillna(0))\n",
    "        data.surface_azimuth = tracking.surface_azimuth\n",
    "        data.surface_tilt = tracking.surface_tilt\n",
    "    return data"
   ]
  },
  {
   "cell_type": "code",
   "execution_count": null,
   "metadata": {},
   "outputs": [
    {
     "data": {
      "text/html": [
       "<div>\n",
       "<style scoped>\n",
       "    .dataframe tbody tr th:only-of-type {\n",
       "        vertical-align: middle;\n",
       "    }\n",
       "\n",
       "    .dataframe tbody tr th {\n",
       "        vertical-align: top;\n",
       "    }\n",
       "\n",
       "    .dataframe thead th {\n",
       "        text-align: right;\n",
       "    }\n",
       "</style>\n",
       "<table border=\"1\" class=\"dataframe\">\n",
       "  <thead>\n",
       "    <tr style=\"text-align: right;\">\n",
       "      <th></th>\n",
       "      <th>ghi</th>\n",
       "      <th>dni</th>\n",
       "      <th>dhi</th>\n",
       "      <th>zenith</th>\n",
       "      <th>azimuth</th>\n",
       "      <th>elevation</th>\n",
       "      <th>surface_tilt</th>\n",
       "      <th>surface_azimuth</th>\n",
       "      <th>albedo</th>\n",
       "    </tr>\n",
       "    <tr>\n",
       "      <th>time(UTC)</th>\n",
       "      <th></th>\n",
       "      <th></th>\n",
       "      <th></th>\n",
       "      <th></th>\n",
       "      <th></th>\n",
       "      <th></th>\n",
       "      <th></th>\n",
       "      <th></th>\n",
       "      <th></th>\n",
       "    </tr>\n",
       "  </thead>\n",
       "  <tbody>\n",
       "    <tr>\n",
       "      <th>2019-01-01 00:00:00</th>\n",
       "      <td>0.0</td>\n",
       "      <td>-0.00</td>\n",
       "      <td>0.0</td>\n",
       "      <td>157.025779</td>\n",
       "      <td>12.037887</td>\n",
       "      <td>-67.025779</td>\n",
       "      <td>38</td>\n",
       "      <td>180</td>\n",
       "      <td>0.4</td>\n",
       "    </tr>\n",
       "    <tr>\n",
       "      <th>2019-01-01 01:00:00</th>\n",
       "      <td>0.0</td>\n",
       "      <td>-0.00</td>\n",
       "      <td>0.0</td>\n",
       "      <td>152.142408</td>\n",
       "      <td>42.518120</td>\n",
       "      <td>-62.142408</td>\n",
       "      <td>38</td>\n",
       "      <td>180</td>\n",
       "      <td>0.4</td>\n",
       "    </tr>\n",
       "    <tr>\n",
       "      <th>2019-01-01 02:00:00</th>\n",
       "      <td>0.0</td>\n",
       "      <td>-0.00</td>\n",
       "      <td>0.0</td>\n",
       "      <td>143.744299</td>\n",
       "      <td>63.378279</td>\n",
       "      <td>-53.744299</td>\n",
       "      <td>38</td>\n",
       "      <td>180</td>\n",
       "      <td>0.4</td>\n",
       "    </tr>\n",
       "    <tr>\n",
       "      <th>2019-01-01 03:00:00</th>\n",
       "      <td>0.0</td>\n",
       "      <td>-0.00</td>\n",
       "      <td>0.0</td>\n",
       "      <td>133.851436</td>\n",
       "      <td>78.083236</td>\n",
       "      <td>-43.851436</td>\n",
       "      <td>38</td>\n",
       "      <td>180</td>\n",
       "      <td>0.4</td>\n",
       "    </tr>\n",
       "    <tr>\n",
       "      <th>2019-01-01 04:00:00</th>\n",
       "      <td>0.0</td>\n",
       "      <td>-0.00</td>\n",
       "      <td>0.0</td>\n",
       "      <td>123.439630</td>\n",
       "      <td>89.722546</td>\n",
       "      <td>-33.439630</td>\n",
       "      <td>38</td>\n",
       "      <td>180</td>\n",
       "      <td>0.4</td>\n",
       "    </tr>\n",
       "    <tr>\n",
       "      <th>2019-01-01 05:00:00</th>\n",
       "      <td>0.0</td>\n",
       "      <td>-0.00</td>\n",
       "      <td>0.0</td>\n",
       "      <td>113.006484</td>\n",
       "      <td>99.993597</td>\n",
       "      <td>-23.006484</td>\n",
       "      <td>38</td>\n",
       "      <td>180</td>\n",
       "      <td>0.4</td>\n",
       "    </tr>\n",
       "    <tr>\n",
       "      <th>2019-01-01 06:00:00</th>\n",
       "      <td>0.0</td>\n",
       "      <td>-0.00</td>\n",
       "      <td>0.0</td>\n",
       "      <td>102.887091</td>\n",
       "      <td>109.866155</td>\n",
       "      <td>-12.887091</td>\n",
       "      <td>38</td>\n",
       "      <td>180</td>\n",
       "      <td>0.4</td>\n",
       "    </tr>\n",
       "    <tr>\n",
       "      <th>2019-01-01 07:00:00</th>\n",
       "      <td>0.0</td>\n",
       "      <td>-0.00</td>\n",
       "      <td>0.0</td>\n",
       "      <td>93.386373</td>\n",
       "      <td>119.982517</td>\n",
       "      <td>-3.386373</td>\n",
       "      <td>38</td>\n",
       "      <td>180</td>\n",
       "      <td>0.4</td>\n",
       "    </tr>\n",
       "    <tr>\n",
       "      <th>2019-01-01 08:00:00</th>\n",
       "      <td>39.0</td>\n",
       "      <td>17.57</td>\n",
       "      <td>37.0</td>\n",
       "      <td>84.843024</td>\n",
       "      <td>130.825698</td>\n",
       "      <td>5.156976</td>\n",
       "      <td>38</td>\n",
       "      <td>180</td>\n",
       "      <td>0.4</td>\n",
       "    </tr>\n",
       "    <tr>\n",
       "      <th>2019-01-01 09:00:00</th>\n",
       "      <td>158.0</td>\n",
       "      <td>228.17</td>\n",
       "      <td>105.0</td>\n",
       "      <td>77.661482</td>\n",
       "      <td>142.752615</td>\n",
       "      <td>12.338518</td>\n",
       "      <td>38</td>\n",
       "      <td>180</td>\n",
       "      <td>0.4</td>\n",
       "    </tr>\n",
       "  </tbody>\n",
       "</table>\n",
       "</div>"
      ],
      "text/plain": [
       "                       ghi     dni    dhi      zenith     azimuth  elevation  \\\n",
       "time(UTC)                                                                      \n",
       "2019-01-01 00:00:00    0.0   -0.00    0.0  157.025779   12.037887 -67.025779   \n",
       "2019-01-01 01:00:00    0.0   -0.00    0.0  152.142408   42.518120 -62.142408   \n",
       "2019-01-01 02:00:00    0.0   -0.00    0.0  143.744299   63.378279 -53.744299   \n",
       "2019-01-01 03:00:00    0.0   -0.00    0.0  133.851436   78.083236 -43.851436   \n",
       "2019-01-01 04:00:00    0.0   -0.00    0.0  123.439630   89.722546 -33.439630   \n",
       "2019-01-01 05:00:00    0.0   -0.00    0.0  113.006484   99.993597 -23.006484   \n",
       "2019-01-01 06:00:00    0.0   -0.00    0.0  102.887091  109.866155 -12.887091   \n",
       "2019-01-01 07:00:00    0.0   -0.00    0.0   93.386373  119.982517  -3.386373   \n",
       "2019-01-01 08:00:00   39.0   17.57   37.0   84.843024  130.825698   5.156976   \n",
       "2019-01-01 09:00:00  158.0  228.17  105.0   77.661482  142.752615  12.338518   \n",
       "\n",
       "                     surface_tilt  surface_azimuth  albedo  \n",
       "time(UTC)                                                   \n",
       "2019-01-01 00:00:00            38              180     0.4  \n",
       "2019-01-01 01:00:00            38              180     0.4  \n",
       "2019-01-01 02:00:00            38              180     0.4  \n",
       "2019-01-01 03:00:00            38              180     0.4  \n",
       "2019-01-01 04:00:00            38              180     0.4  \n",
       "2019-01-01 05:00:00            38              180     0.4  \n",
       "2019-01-01 06:00:00            38              180     0.4  \n",
       "2019-01-01 07:00:00            38              180     0.4  \n",
       "2019-01-01 08:00:00            38              180     0.4  \n",
       "2019-01-01 09:00:00            38              180     0.4  "
      ]
     },
     "execution_count": null,
     "metadata": {},
     "output_type": "execute_result"
    }
   ],
   "source": [
    "pvgis_tmy_file = DATAPATH/'pvgis_tmy_chambery.csv'\n",
    "data = get_data(pvgis_tmy_file, pvarray_params, reader='pvgis', coerce_year=2019); data.head(10)"
   ]
  },
  {
   "cell_type": "markdown",
   "metadata": {},
   "source": [
    "### Tracking"
   ]
  },
  {
   "cell_type": "code",
   "execution_count": null,
   "metadata": {},
   "outputs": [
    {
     "data": {
      "text/html": [
       "<div>\n",
       "<style scoped>\n",
       "    .dataframe tbody tr th:only-of-type {\n",
       "        vertical-align: middle;\n",
       "    }\n",
       "\n",
       "    .dataframe tbody tr th {\n",
       "        vertical-align: top;\n",
       "    }\n",
       "\n",
       "    .dataframe thead th {\n",
       "        text-align: right;\n",
       "    }\n",
       "</style>\n",
       "<table border=\"1\" class=\"dataframe\">\n",
       "  <thead>\n",
       "    <tr style=\"text-align: right;\">\n",
       "      <th></th>\n",
       "      <th>ghi</th>\n",
       "      <th>dni</th>\n",
       "      <th>dhi</th>\n",
       "      <th>zenith</th>\n",
       "      <th>azimuth</th>\n",
       "      <th>elevation</th>\n",
       "      <th>surface_tilt</th>\n",
       "      <th>surface_azimuth</th>\n",
       "      <th>albedo</th>\n",
       "    </tr>\n",
       "    <tr>\n",
       "      <th>time(UTC)</th>\n",
       "      <th></th>\n",
       "      <th></th>\n",
       "      <th></th>\n",
       "      <th></th>\n",
       "      <th></th>\n",
       "      <th></th>\n",
       "      <th></th>\n",
       "      <th></th>\n",
       "      <th></th>\n",
       "    </tr>\n",
       "  </thead>\n",
       "  <tbody>\n",
       "    <tr>\n",
       "      <th>2019-01-01 00:00:00</th>\n",
       "      <td>0.0</td>\n",
       "      <td>-0.00</td>\n",
       "      <td>0.0</td>\n",
       "      <td>157.025779</td>\n",
       "      <td>12.037887</td>\n",
       "      <td>-67.025779</td>\n",
       "      <td>0.000000</td>\n",
       "      <td>0.0</td>\n",
       "      <td>0.4</td>\n",
       "    </tr>\n",
       "    <tr>\n",
       "      <th>2019-01-01 01:00:00</th>\n",
       "      <td>0.0</td>\n",
       "      <td>-0.00</td>\n",
       "      <td>0.0</td>\n",
       "      <td>152.142408</td>\n",
       "      <td>42.518120</td>\n",
       "      <td>-62.142408</td>\n",
       "      <td>0.000000</td>\n",
       "      <td>0.0</td>\n",
       "      <td>0.4</td>\n",
       "    </tr>\n",
       "    <tr>\n",
       "      <th>2019-01-01 02:00:00</th>\n",
       "      <td>0.0</td>\n",
       "      <td>-0.00</td>\n",
       "      <td>0.0</td>\n",
       "      <td>143.744299</td>\n",
       "      <td>63.378279</td>\n",
       "      <td>-53.744299</td>\n",
       "      <td>0.000000</td>\n",
       "      <td>0.0</td>\n",
       "      <td>0.4</td>\n",
       "    </tr>\n",
       "    <tr>\n",
       "      <th>2019-01-01 03:00:00</th>\n",
       "      <td>0.0</td>\n",
       "      <td>-0.00</td>\n",
       "      <td>0.0</td>\n",
       "      <td>133.851436</td>\n",
       "      <td>78.083236</td>\n",
       "      <td>-43.851436</td>\n",
       "      <td>0.000000</td>\n",
       "      <td>0.0</td>\n",
       "      <td>0.4</td>\n",
       "    </tr>\n",
       "    <tr>\n",
       "      <th>2019-01-01 04:00:00</th>\n",
       "      <td>0.0</td>\n",
       "      <td>-0.00</td>\n",
       "      <td>0.0</td>\n",
       "      <td>123.439630</td>\n",
       "      <td>89.722546</td>\n",
       "      <td>-33.439630</td>\n",
       "      <td>0.000000</td>\n",
       "      <td>0.0</td>\n",
       "      <td>0.4</td>\n",
       "    </tr>\n",
       "    <tr>\n",
       "      <th>2019-01-01 05:00:00</th>\n",
       "      <td>0.0</td>\n",
       "      <td>-0.00</td>\n",
       "      <td>0.0</td>\n",
       "      <td>113.006484</td>\n",
       "      <td>99.993597</td>\n",
       "      <td>-23.006484</td>\n",
       "      <td>0.000000</td>\n",
       "      <td>0.0</td>\n",
       "      <td>0.4</td>\n",
       "    </tr>\n",
       "    <tr>\n",
       "      <th>2019-01-01 06:00:00</th>\n",
       "      <td>0.0</td>\n",
       "      <td>-0.00</td>\n",
       "      <td>0.0</td>\n",
       "      <td>102.887091</td>\n",
       "      <td>109.866155</td>\n",
       "      <td>-12.887091</td>\n",
       "      <td>0.000000</td>\n",
       "      <td>0.0</td>\n",
       "      <td>0.4</td>\n",
       "    </tr>\n",
       "    <tr>\n",
       "      <th>2019-01-01 07:00:00</th>\n",
       "      <td>0.0</td>\n",
       "      <td>-0.00</td>\n",
       "      <td>0.0</td>\n",
       "      <td>93.386373</td>\n",
       "      <td>119.982517</td>\n",
       "      <td>-3.386373</td>\n",
       "      <td>0.000000</td>\n",
       "      <td>0.0</td>\n",
       "      <td>0.4</td>\n",
       "    </tr>\n",
       "    <tr>\n",
       "      <th>2019-01-01 08:00:00</th>\n",
       "      <td>39.0</td>\n",
       "      <td>17.57</td>\n",
       "      <td>37.0</td>\n",
       "      <td>84.843024</td>\n",
       "      <td>130.825698</td>\n",
       "      <td>5.156976</td>\n",
       "      <td>83.198596</td>\n",
       "      <td>90.0</td>\n",
       "      <td>0.4</td>\n",
       "    </tr>\n",
       "    <tr>\n",
       "      <th>2019-01-01 09:00:00</th>\n",
       "      <td>158.0</td>\n",
       "      <td>228.17</td>\n",
       "      <td>105.0</td>\n",
       "      <td>77.661482</td>\n",
       "      <td>142.752615</td>\n",
       "      <td>12.338518</td>\n",
       "      <td>70.130188</td>\n",
       "      <td>90.0</td>\n",
       "      <td>0.4</td>\n",
       "    </tr>\n",
       "    <tr>\n",
       "      <th>2019-01-01 10:00:00</th>\n",
       "      <td>181.0</td>\n",
       "      <td>94.99</td>\n",
       "      <td>151.0</td>\n",
       "      <td>72.307567</td>\n",
       "      <td>155.925093</td>\n",
       "      <td>17.692433</td>\n",
       "      <td>51.975164</td>\n",
       "      <td>90.0</td>\n",
       "      <td>0.4</td>\n",
       "    </tr>\n",
       "    <tr>\n",
       "      <th>2019-01-01 11:00:00</th>\n",
       "      <td>307.0</td>\n",
       "      <td>459.85</td>\n",
       "      <td>142.0</td>\n",
       "      <td>69.243289</td>\n",
       "      <td>170.178075</td>\n",
       "      <td>20.756711</td>\n",
       "      <td>24.232338</td>\n",
       "      <td>90.0</td>\n",
       "      <td>0.4</td>\n",
       "    </tr>\n",
       "    <tr>\n",
       "      <th>2019-01-01 12:00:00</th>\n",
       "      <td>287.0</td>\n",
       "      <td>360.03</td>\n",
       "      <td>158.0</td>\n",
       "      <td>68.793618</td>\n",
       "      <td>184.952485</td>\n",
       "      <td>21.206382</td>\n",
       "      <td>12.543833</td>\n",
       "      <td>270.0</td>\n",
       "      <td>0.4</td>\n",
       "    </tr>\n",
       "    <tr>\n",
       "      <th>2019-01-01 13:00:00</th>\n",
       "      <td>302.0</td>\n",
       "      <td>728.55</td>\n",
       "      <td>73.0</td>\n",
       "      <td>71.010669</td>\n",
       "      <td>199.459592</td>\n",
       "      <td>18.989331</td>\n",
       "      <td>44.071404</td>\n",
       "      <td>270.0</td>\n",
       "      <td>0.4</td>\n",
       "    </tr>\n",
       "    <tr>\n",
       "      <th>2019-01-01 14:00:00</th>\n",
       "      <td>137.0</td>\n",
       "      <td>134.85</td>\n",
       "      <td>106.0</td>\n",
       "      <td>75.648664</td>\n",
       "      <td>213.032008</td>\n",
       "      <td>14.351336</td>\n",
       "      <td>64.856553</td>\n",
       "      <td>270.0</td>\n",
       "      <td>0.4</td>\n",
       "    </tr>\n",
       "    <tr>\n",
       "      <th>2019-01-01 15:00:00</th>\n",
       "      <td>44.0</td>\n",
       "      <td>0.00</td>\n",
       "      <td>44.0</td>\n",
       "      <td>82.274063</td>\n",
       "      <td>225.372110</td>\n",
       "      <td>7.725937</td>\n",
       "      <td>79.207359</td>\n",
       "      <td>270.0</td>\n",
       "      <td>0.4</td>\n",
       "    </tr>\n",
       "    <tr>\n",
       "      <th>2019-01-01 16:00:00</th>\n",
       "      <td>0.0</td>\n",
       "      <td>-0.00</td>\n",
       "      <td>0.0</td>\n",
       "      <td>90.411267</td>\n",
       "      <td>236.548135</td>\n",
       "      <td>-0.411267</td>\n",
       "      <td>0.000000</td>\n",
       "      <td>0.0</td>\n",
       "      <td>0.4</td>\n",
       "    </tr>\n",
       "    <tr>\n",
       "      <th>2019-01-01 17:00:00</th>\n",
       "      <td>0.0</td>\n",
       "      <td>-0.00</td>\n",
       "      <td>0.0</td>\n",
       "      <td>99.632278</td>\n",
       "      <td>246.864501</td>\n",
       "      <td>-9.632278</td>\n",
       "      <td>0.000000</td>\n",
       "      <td>0.0</td>\n",
       "      <td>0.4</td>\n",
       "    </tr>\n",
       "    <tr>\n",
       "      <th>2019-01-01 18:00:00</th>\n",
       "      <td>0.0</td>\n",
       "      <td>-0.00</td>\n",
       "      <td>0.0</td>\n",
       "      <td>109.578312</td>\n",
       "      <td>256.764565</td>\n",
       "      <td>-19.578312</td>\n",
       "      <td>0.000000</td>\n",
       "      <td>0.0</td>\n",
       "      <td>0.4</td>\n",
       "    </tr>\n",
       "    <tr>\n",
       "      <th>2019-01-01 19:00:00</th>\n",
       "      <td>0.0</td>\n",
       "      <td>-0.00</td>\n",
       "      <td>0.0</td>\n",
       "      <td>119.937941</td>\n",
       "      <td>266.827753</td>\n",
       "      <td>-29.937941</td>\n",
       "      <td>0.000000</td>\n",
       "      <td>0.0</td>\n",
       "      <td>0.4</td>\n",
       "    </tr>\n",
       "    <tr>\n",
       "      <th>2019-01-01 20:00:00</th>\n",
       "      <td>0.0</td>\n",
       "      <td>-0.00</td>\n",
       "      <td>0.0</td>\n",
       "      <td>130.395102</td>\n",
       "      <td>277.886219</td>\n",
       "      <td>-40.395102</td>\n",
       "      <td>0.000000</td>\n",
       "      <td>0.0</td>\n",
       "      <td>0.4</td>\n",
       "    </tr>\n",
       "    <tr>\n",
       "      <th>2019-01-01 21:00:00</th>\n",
       "      <td>0.0</td>\n",
       "      <td>-0.00</td>\n",
       "      <td>0.0</td>\n",
       "      <td>140.527000</td>\n",
       "      <td>291.331761</td>\n",
       "      <td>-50.527000</td>\n",
       "      <td>0.000000</td>\n",
       "      <td>0.0</td>\n",
       "      <td>0.4</td>\n",
       "    </tr>\n",
       "    <tr>\n",
       "      <th>2019-01-01 22:00:00</th>\n",
       "      <td>0.0</td>\n",
       "      <td>-0.00</td>\n",
       "      <td>0.0</td>\n",
       "      <td>149.567972</td>\n",
       "      <td>309.720621</td>\n",
       "      <td>-59.567972</td>\n",
       "      <td>0.000000</td>\n",
       "      <td>0.0</td>\n",
       "      <td>0.4</td>\n",
       "    </tr>\n",
       "    <tr>\n",
       "      <th>2019-01-01 23:00:00</th>\n",
       "      <td>0.0</td>\n",
       "      <td>-0.00</td>\n",
       "      <td>0.0</td>\n",
       "      <td>155.898007</td>\n",
       "      <td>336.858281</td>\n",
       "      <td>-65.898007</td>\n",
       "      <td>0.000000</td>\n",
       "      <td>0.0</td>\n",
       "      <td>0.4</td>\n",
       "    </tr>\n",
       "  </tbody>\n",
       "</table>\n",
       "</div>"
      ],
      "text/plain": [
       "                       ghi     dni    dhi      zenith     azimuth  elevation  \\\n",
       "time(UTC)                                                                      \n",
       "2019-01-01 00:00:00    0.0   -0.00    0.0  157.025779   12.037887 -67.025779   \n",
       "2019-01-01 01:00:00    0.0   -0.00    0.0  152.142408   42.518120 -62.142408   \n",
       "2019-01-01 02:00:00    0.0   -0.00    0.0  143.744299   63.378279 -53.744299   \n",
       "2019-01-01 03:00:00    0.0   -0.00    0.0  133.851436   78.083236 -43.851436   \n",
       "2019-01-01 04:00:00    0.0   -0.00    0.0  123.439630   89.722546 -33.439630   \n",
       "2019-01-01 05:00:00    0.0   -0.00    0.0  113.006484   99.993597 -23.006484   \n",
       "2019-01-01 06:00:00    0.0   -0.00    0.0  102.887091  109.866155 -12.887091   \n",
       "2019-01-01 07:00:00    0.0   -0.00    0.0   93.386373  119.982517  -3.386373   \n",
       "2019-01-01 08:00:00   39.0   17.57   37.0   84.843024  130.825698   5.156976   \n",
       "2019-01-01 09:00:00  158.0  228.17  105.0   77.661482  142.752615  12.338518   \n",
       "2019-01-01 10:00:00  181.0   94.99  151.0   72.307567  155.925093  17.692433   \n",
       "2019-01-01 11:00:00  307.0  459.85  142.0   69.243289  170.178075  20.756711   \n",
       "2019-01-01 12:00:00  287.0  360.03  158.0   68.793618  184.952485  21.206382   \n",
       "2019-01-01 13:00:00  302.0  728.55   73.0   71.010669  199.459592  18.989331   \n",
       "2019-01-01 14:00:00  137.0  134.85  106.0   75.648664  213.032008  14.351336   \n",
       "2019-01-01 15:00:00   44.0    0.00   44.0   82.274063  225.372110   7.725937   \n",
       "2019-01-01 16:00:00    0.0   -0.00    0.0   90.411267  236.548135  -0.411267   \n",
       "2019-01-01 17:00:00    0.0   -0.00    0.0   99.632278  246.864501  -9.632278   \n",
       "2019-01-01 18:00:00    0.0   -0.00    0.0  109.578312  256.764565 -19.578312   \n",
       "2019-01-01 19:00:00    0.0   -0.00    0.0  119.937941  266.827753 -29.937941   \n",
       "2019-01-01 20:00:00    0.0   -0.00    0.0  130.395102  277.886219 -40.395102   \n",
       "2019-01-01 21:00:00    0.0   -0.00    0.0  140.527000  291.331761 -50.527000   \n",
       "2019-01-01 22:00:00    0.0   -0.00    0.0  149.567972  309.720621 -59.567972   \n",
       "2019-01-01 23:00:00    0.0   -0.00    0.0  155.898007  336.858281 -65.898007   \n",
       "\n",
       "                     surface_tilt  surface_azimuth  albedo  \n",
       "time(UTC)                                                   \n",
       "2019-01-01 00:00:00      0.000000              0.0     0.4  \n",
       "2019-01-01 01:00:00      0.000000              0.0     0.4  \n",
       "2019-01-01 02:00:00      0.000000              0.0     0.4  \n",
       "2019-01-01 03:00:00      0.000000              0.0     0.4  \n",
       "2019-01-01 04:00:00      0.000000              0.0     0.4  \n",
       "2019-01-01 05:00:00      0.000000              0.0     0.4  \n",
       "2019-01-01 06:00:00      0.000000              0.0     0.4  \n",
       "2019-01-01 07:00:00      0.000000              0.0     0.4  \n",
       "2019-01-01 08:00:00     83.198596             90.0     0.4  \n",
       "2019-01-01 09:00:00     70.130188             90.0     0.4  \n",
       "2019-01-01 10:00:00     51.975164             90.0     0.4  \n",
       "2019-01-01 11:00:00     24.232338             90.0     0.4  \n",
       "2019-01-01 12:00:00     12.543833            270.0     0.4  \n",
       "2019-01-01 13:00:00     44.071404            270.0     0.4  \n",
       "2019-01-01 14:00:00     64.856553            270.0     0.4  \n",
       "2019-01-01 15:00:00     79.207359            270.0     0.4  \n",
       "2019-01-01 16:00:00      0.000000              0.0     0.4  \n",
       "2019-01-01 17:00:00      0.000000              0.0     0.4  \n",
       "2019-01-01 18:00:00      0.000000              0.0     0.4  \n",
       "2019-01-01 19:00:00      0.000000              0.0     0.4  \n",
       "2019-01-01 20:00:00      0.000000              0.0     0.4  \n",
       "2019-01-01 21:00:00      0.000000              0.0     0.4  \n",
       "2019-01-01 22:00:00      0.000000              0.0     0.4  \n",
       "2019-01-01 23:00:00      0.000000              0.0     0.4  "
      ]
     },
     "execution_count": null,
     "metadata": {},
     "output_type": "execute_result"
    }
   ],
   "source": [
    "pvarray_params['tracking'] = True\n",
    "tracking_data = get_data(pvgis_tmy_file, pvarray_params); tracking_data.head(24)"
   ]
  },
  {
   "cell_type": "markdown",
   "metadata": {},
   "source": [
    "## Run Simulation\n",
    "> How to run full year simulation"
   ]
  },
  {
   "cell_type": "markdown",
   "metadata": {},
   "source": [
    "We have to create a pvarray from the defined params."
   ]
  },
  {
   "cell_type": "code",
   "execution_count": null,
   "metadata": {},
   "outputs": [],
   "source": [
    "pvarray = OrderedPVArray.init_from_dict(pvarray_params)\n",
    "engine = PVEngine(pvarray)"
   ]
  },
  {
   "cell_type": "markdown",
   "metadata": {},
   "source": [
    "we fit the `pvarray` to the data (like sklearn API)"
   ]
  },
  {
   "cell_type": "code",
   "execution_count": null,
   "metadata": {},
   "outputs": [],
   "source": [
    "pvarray = engine.fit(data.index, \n",
    "            data.dni, \n",
    "            data.dhi, \n",
    "            data.zenith, \n",
    "            data.azimuth, \n",
    "            data.surface_tilt, \n",
    "            data.surface_azimuth,\n",
    "            data.albedo)"
   ]
  },
  {
   "cell_type": "markdown",
   "metadata": {},
   "source": [
    "This is the basic function that returns the whole `pvarray` object."
   ]
  },
  {
   "cell_type": "code",
   "execution_count": null,
   "metadata": {},
   "outputs": [],
   "source": [
    "fn_build_report=lambda pvarray: pvarray"
   ]
  },
  {
   "cell_type": "code",
   "execution_count": null,
   "metadata": {},
   "outputs": [
    {
     "data": {
      "text/markdown": [
       "<h4 id=\"PVEngine.run_full_mode\" class=\"doc_header\"><code>PVEngine.run_full_mode</code><a href=\"pvfactors/engine.py#L177\" class=\"source_link\" style=\"float:right\">[source]</a></h4>\n",
       "\n",
       "> <code>PVEngine.run_full_mode</code>(**`fn_build_report`**=*`None`*)\n",
       "\n",
       "Run all simulation timesteps using the full mode, which calculates\n",
       "the equilibrium of reflections in the system, and returns a report that\n",
       "will be built by the function passed by the user.\n",
       "\n",
       "Parameters\n",
       "----------\n",
       "fn_build_report : function, optional\n",
       "    Function that will build the report of the simulation\n",
       "    (Default value = None)\n",
       "\n",
       "Returns\n",
       "-------\n",
       "report\n",
       "    Saved results from the simulation, as specified by user's report\n",
       "    function. If no function is passed, nothing will be returned."
      ],
      "text/plain": [
       "<IPython.core.display.Markdown object>"
      ]
     },
     "metadata": {},
     "output_type": "display_data"
    }
   ],
   "source": [
    "show_doc(engine.run_full_mode)"
   ]
  },
  {
   "cell_type": "markdown",
   "metadata": {},
   "source": [
    "now we pass the function to the `engine.run_full_mode` method."
   ]
  },
  {
   "cell_type": "code",
   "execution_count": null,
   "metadata": {},
   "outputs": [
    {
     "name": "stderr",
     "output_type": "stream",
     "text": [
      "/home/tc256760/anaconda3/envs/fastai/lib/python3.7/site-packages/pvfactors/viewfactors/vfmethods.py:181: RuntimeWarning: invalid value encountered in true_divide\n",
      "  vf_pvrow_to_gnd_surf * pvrow_surf_length / gnd_surf_length, 0.)\n"
     ]
    }
   ],
   "source": [
    "pvarray = engine.run_full_mode(fn_build_report)"
   ]
  },
  {
   "cell_type": "markdown",
   "metadata": {},
   "source": [
    "## Report functions\n",
    "> You have to define the outputs you want to recover from the simulation using a report function."
   ]
  },
  {
   "cell_type": "code",
   "execution_count": null,
   "metadata": {},
   "outputs": [],
   "source": [
    "idx = get_index(data, '12h 21 June 2019')"
   ]
  },
  {
   "cell_type": "code",
   "execution_count": null,
   "metadata": {},
   "outputs": [
    {
     "data": {
      "image/png": "[encoded data removed]",
      "text/plain": [
       "<Figure size 864x360 with 1 Axes>"
      ]
     },
     "metadata": {
      "needs_background": "light"
     },
     "output_type": "display_data"
    }
   ],
   "source": [
    "plot_idx(pvarray, idx, with_index=True, figsize=(12,5)); #there is an issue with plotting..."
   ]
  },
  {
   "cell_type": "markdown",
   "metadata": {},
   "source": [
    "from this object, one can query all quantities wanted: (just do `pvarray.` and press tab)\n",
    "- `ts_ground` : The timseries of the ground\n",
    "- `ts_pvrows` : Same of the pvrows\n",
    "- `ts_surface_indices`: the indexes\n",
    "- `ts_vf_matrix`: The viewfactors matrix\n",
    "- `ts_vf_aoi_matrix`: AOI losses matrix\n",
    "I reommend taking a tour on the tutorials presented on [pvfactors doc](https://sunpower.github.io/pvfactors/tutorials/PVArray_introduction.html)"
   ]
  },
  {
   "cell_type": "markdown",
   "metadata": {},
   "source": [
    "We can query the weighted average of the irradiance on the back using:"
   ]
  },
  {
   "cell_type": "markdown",
   "metadata": {},
   "source": [
    "We can list all surfaces:"
   ]
  },
  {
   "cell_type": "code",
   "execution_count": null,
   "metadata": {},
   "outputs": [
    {
     "data": {
      "text/plain": [
       "[<pvfactors.geometry.pvrow.TsSegment at 0x7f6813702ad0>,\n",
       " <pvfactors.geometry.pvrow.TsSegment at 0x7f6813702250>,\n",
       " <pvfactors.geometry.pvrow.TsSegment at 0x7f6813711390>,\n",
       " <pvfactors.geometry.pvrow.TsSegment at 0x7f6813711410>,\n",
       " <pvfactors.geometry.pvrow.TsSegment at 0x7f6813652550>,\n",
       " <pvfactors.geometry.pvrow.TsSegment at 0x7f6813652a90>,\n",
       " <pvfactors.geometry.pvrow.TsSegment at 0x7f6813652690>]"
      ]
     },
     "execution_count": null,
     "metadata": {},
     "output_type": "execute_result"
    }
   ],
   "source": [
    "pvarray.ts_pvrows[0].back.list_segments"
   ]
  },
  {
   "cell_type": "code",
   "execution_count": null,
   "metadata": {},
   "outputs": [
    {
     "data": {
      "text/plain": [
       "(8760,)"
      ]
     },
     "execution_count": null,
     "metadata": {},
     "output_type": "execute_result"
    }
   ],
   "source": [
    "irr_year = pvarray.ts_pvrows[0].back.get_param_weighted('qinc'); irr_year.shape"
   ]
  },
  {
   "cell_type": "markdown",
   "metadata": {},
   "source": [
    "We get as many points as the simulation index. In this case, 8760 for one hoursly-year."
   ]
  },
  {
   "cell_type": "code",
   "execution_count": null,
   "metadata": {},
   "outputs": [
    {
     "data": {
      "text/plain": [
       "(8760, 2)"
      ]
     },
     "execution_count": null,
     "metadata": {},
     "output_type": "execute_result"
    }
   ],
   "source": [
    "res_array = np.vstack([pvarray.ts_pvrows[0].front.get_param_weighted('qinc'), \n",
    "                     pvarray.ts_pvrows[0].back.get_param_weighted('qinc')]).T\n",
    "res_array.shape"
   ]
  },
  {
   "cell_type": "code",
   "execution_count": null,
   "metadata": {},
   "outputs": [],
   "source": [
    "results = DataFrame(res_array, \n",
    "                    columns=['front', 'back'],\n",
    "                    index=data.index )"
   ]
  },
  {
   "cell_type": "code",
   "execution_count": null,
   "metadata": {},
   "outputs": [
    {
     "data": {
      "text/plain": [
       "<matplotlib.axes._subplots.AxesSubplot at 0x7f6813534d50>"
      ]
     },
     "execution_count": null,
     "metadata": {},
     "output_type": "execute_result"
    },
    {
     "data": {
      "image/png": "[encoded data removed]",
      "text/plain": [
       "<Figure size 1008x360 with 1 Axes>"
      ]
     },
     "metadata": {
      "needs_background": "light"
     },
     "output_type": "display_data"
    }
   ],
   "source": [
    "results.plot(figsize=(14,5))"
   ]
  },
  {
   "cell_type": "markdown",
   "metadata": {},
   "source": [
    "## Back face irradiance measure points.\n",
    "> If one wants to recover indenpendent measure, we have to index on surface elements individually."
   ]
  },
  {
   "cell_type": "markdown",
   "metadata": {},
   "source": [
    "We can list all surfaces:"
   ]
  },
  {
   "cell_type": "code",
   "execution_count": null,
   "metadata": {},
   "outputs": [
    {
     "data": {
      "text/plain": [
       "[<pvfactors.geometry.pvrow.TsSegment at 0x7f6813702ad0>,\n",
       " <pvfactors.geometry.pvrow.TsSegment at 0x7f6813702250>,\n",
       " <pvfactors.geometry.pvrow.TsSegment at 0x7f6813711390>,\n",
       " <pvfactors.geometry.pvrow.TsSegment at 0x7f6813711410>,\n",
       " <pvfactors.geometry.pvrow.TsSegment at 0x7f6813652550>,\n",
       " <pvfactors.geometry.pvrow.TsSegment at 0x7f6813652a90>,\n",
       " <pvfactors.geometry.pvrow.TsSegment at 0x7f6813652690>]"
      ]
     },
     "execution_count": null,
     "metadata": {},
     "output_type": "execute_result"
    }
   ],
   "source": [
    "pvarray.ts_pvrows[0].back.list_segments"
   ]
  },
  {
   "cell_type": "markdown",
   "metadata": {},
   "source": [
    "Note: using `all_ts_surfaces` lists also the shaded surfaces that may not be visible at this timestamp. see [here](https://sunpower.github.io/pvfactors/tutorials/Create_discretized_pvarray.html#Indexing-the-timeseries-surfaces-in-a-PV-array)"
   ]
  },
  {
   "cell_type": "code",
   "execution_count": null,
   "metadata": {},
   "outputs": [],
   "source": [
    "seg = pvarray.ts_pvrows[0].back.list_segments[3]"
   ]
  },
  {
   "cell_type": "code",
   "execution_count": null,
   "metadata": {},
   "outputs": [
    {
     "data": {
      "text/plain": [
       "array([0., 0., 0., ..., 0., 0., 0.])"
      ]
     },
     "execution_count": null,
     "metadata": {},
     "output_type": "execute_result"
    }
   ],
   "source": [
    "seg.get_param_weighted('qinc')"
   ]
  },
  {
   "cell_type": "code",
   "execution_count": null,
   "metadata": {},
   "outputs": [],
   "source": [
    "seg.all_ts_surfaces"
   ]
  },
  {
   "cell_type": "markdown",
   "metadata": {},
   "source": [
    "We can do this creating a custom report function:"
   ]
  },
  {
   "cell_type": "code",
   "execution_count": null,
   "metadata": {},
   "outputs": [],
   "source": [
    "#export\n",
    "def individual_report(pvarray:OrderedPVArray, row:int=0): \n",
    "    back_surface_list = pvarray.ts_pvrows[row].back.list_segments\n",
    "    return pd.DataFrame({f'qinc_{s.all_ts_surfaces[0].index}':s.get_param_weighted('qinc') for s in back_surface_list})"
   ]
  },
  {
   "cell_type": "code",
   "execution_count": null,
   "metadata": {},
   "outputs": [
    {
     "data": {
      "text/plain": [
       "<matplotlib.axes._subplots.AxesSubplot at 0x7f680e5df6d0>"
      ]
     },
     "execution_count": null,
     "metadata": {},
     "output_type": "execute_result"
    },
    {
     "data": {
      "image/png": "[encoded data removed]",
      "text/plain": [
       "<Figure size 432x288 with 1 Axes>"
      ]
     },
     "metadata": {
      "needs_background": "light"
     },
     "output_type": "display_data"
    }
   ],
   "source": [
    "results_individual = individual_report(pvarray)\n",
    "results_individual[0:24].plot()"
   ]
  },
  {
   "cell_type": "code",
   "execution_count": null,
   "metadata": {},
   "outputs": [],
   "source": [
    "data"
   ]
  },
  {
   "cell_type": "code",
   "execution_count": null,
   "metadata": {},
   "outputs": [],
   "source": [
    "idx = get_index(data, '12h 21 June 2019')"
   ]
  },
  {
   "cell_type": "code",
   "execution_count": null,
   "metadata": {},
   "outputs": [],
   "source": [
    "plot_idx(pvarray, idx);"
   ]
  },
  {
   "cell_type": "markdown",
   "metadata": {},
   "source": [
    "# Export -"
   ]
  },
  {
   "cell_type": "code",
   "execution_count": null,
   "metadata": {},
   "outputs": [],
   "source": [
    "#hide\n",
    "from nbdev.export import notebook2script\n",
    "notebook2script()"
   ]
  },
  {
   "cell_type": "code",
   "execution_count": null,
   "metadata": {},
   "outputs": [],
   "source": []
  }
 ],
 "metadata": {
  "kernelspec": {
   "display_name": "Python 3",
   "language": "python",
   "name": "python3"
  }
 },
 "nbformat": 4,
 "nbformat_minor": 2
}
