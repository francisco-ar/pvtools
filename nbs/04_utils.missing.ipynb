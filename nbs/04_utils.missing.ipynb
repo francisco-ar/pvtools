{
 "cells": [
  {
   "cell_type": "code",
   "execution_count": null,
   "metadata": {},
   "outputs": [],
   "source": [
    "# default_exp utils.missing"
   ]
  },
  {
   "cell_type": "code",
   "execution_count": null,
   "metadata": {},
   "outputs": [],
   "source": [
    "#export\n",
    "from capetools.imports import *\n",
    "from capetools.utils.pandas_hacks import *\n",
    "from sklearn.base import TransformerMixin"
   ]
  },
  {
   "cell_type": "markdown",
   "metadata": {},
   "source": [
    "# Detect Missing values\n",
    "> A set of tools to detect and repair missing values on timeseries data"
   ]
  },
  {
   "cell_type": "markdown",
   "metadata": {},
   "source": [
    "Let's import some data"
   ]
  },
  {
   "cell_type": "code",
   "execution_count": null,
   "metadata": {},
   "outputs": [
    {
     "data": {
      "text/plain": [
       "(#2) [Path('/home/tc256760/Documents/capetools/data/pvgis_tmy_chambery.csv'),Path('/home/tc256760/Documents/capetools/data/sample_data.hdf')]"
      ]
     },
     "execution_count": null,
     "metadata": {},
     "output_type": "execute_result"
    }
   ],
   "source": [
    "DATAPATH = Path.cwd().parent/'data'\n",
    "DATAPATH.ls()"
   ]
  },
  {
   "cell_type": "code",
   "execution_count": null,
   "metadata": {},
   "outputs": [],
   "source": [
    "df = pd.read_hdf(DATAPATH/'sample_data.hdf')"
   ]
  },
  {
   "cell_type": "markdown",
   "metadata": {},
   "source": [
    "We can add some random noise (add random NaN)."
   ]
  },
  {
   "cell_type": "code",
   "execution_count": null,
   "metadata": {},
   "outputs": [],
   "source": [
    "df_noisy = df.copy()\n",
    "df_noisy[np.random.choice(a=[False, True], size=df.shape, p=[0.95, 1-0.95])] = np.nan"
   ]
  },
  {
   "cell_type": "markdown",
   "metadata": {},
   "source": [
    "It is useful to know when the sun is up:"
   ]
  },
  {
   "cell_type": "code",
   "execution_count": null,
   "metadata": {},
   "outputs": [],
   "source": [
    "def is_day(df: DataFrame, ghi_col='ghi')->DataFrame:\n",
    "    \"Day test, needs ghi col present\" \n",
    "    assert ghi_col in df.columns, f'{ghi_col} is not present'\n",
    "    return df[df.loc[All, ghi_col]>0]"
   ]
  },
  {
   "cell_type": "code",
   "execution_count": null,
   "metadata": {},
   "outputs": [
    {
     "data": {
      "text/html": [
       "<div>\n",
       "<style scoped>\n",
       "    .dataframe tbody tr th:only-of-type {\n",
       "        vertical-align: middle;\n",
       "    }\n",
       "\n",
       "    .dataframe tbody tr th {\n",
       "        vertical-align: top;\n",
       "    }\n",
       "\n",
       "    .dataframe thead th {\n",
       "        text-align: right;\n",
       "    }\n",
       "</style>\n",
       "<table border=\"1\" class=\"dataframe\">\n",
       "  <thead>\n",
       "    <tr style=\"text-align: right;\">\n",
       "      <th></th>\n",
       "      <th>ghi</th>\n",
       "      <th>dni</th>\n",
       "      <th>dhi</th>\n",
       "      <th>temp_air</th>\n",
       "      <th>wind_speed</th>\n",
       "      <th>wind_dir</th>\n",
       "      <th>pressure</th>\n",
       "      <th>humidity</th>\n",
       "      <th>zenith</th>\n",
       "      <th>elevation</th>\n",
       "      <th>azimuth</th>\n",
       "    </tr>\n",
       "    <tr>\n",
       "      <th>Date UTC</th>\n",
       "      <th></th>\n",
       "      <th></th>\n",
       "      <th></th>\n",
       "      <th></th>\n",
       "      <th></th>\n",
       "      <th></th>\n",
       "      <th></th>\n",
       "      <th></th>\n",
       "      <th></th>\n",
       "      <th></th>\n",
       "      <th></th>\n",
       "    </tr>\n",
       "  </thead>\n",
       "  <tbody>\n",
       "    <tr>\n",
       "      <th>2019-01-01 07:00:00</th>\n",
       "      <td>3.61</td>\n",
       "      <td>0.0</td>\n",
       "      <td>3.82</td>\n",
       "      <td>3.95</td>\n",
       "      <td>NaN</td>\n",
       "      <td>225.0</td>\n",
       "      <td>NaN</td>\n",
       "      <td>85.8</td>\n",
       "      <td>93.381</td>\n",
       "      <td>-3.381</td>\n",
       "      <td>119.987</td>\n",
       "    </tr>\n",
       "    <tr>\n",
       "      <th>2019-01-01 08:00:00</th>\n",
       "      <td>19.81</td>\n",
       "      <td>0.0</td>\n",
       "      <td>19.09</td>\n",
       "      <td>3.96</td>\n",
       "      <td>2.30</td>\n",
       "      <td>214.8</td>\n",
       "      <td>1005.00</td>\n",
       "      <td>84.0</td>\n",
       "      <td>84.837</td>\n",
       "      <td>5.163</td>\n",
       "      <td>130.830</td>\n",
       "    </tr>\n",
       "    <tr>\n",
       "      <th>2019-01-01 09:00:00</th>\n",
       "      <td>28.79</td>\n",
       "      <td>0.0</td>\n",
       "      <td>28.28</td>\n",
       "      <td>4.39</td>\n",
       "      <td>2.44</td>\n",
       "      <td>199.4</td>\n",
       "      <td>1005.11</td>\n",
       "      <td>82.8</td>\n",
       "      <td>77.656</td>\n",
       "      <td>12.344</td>\n",
       "      <td>142.757</td>\n",
       "    </tr>\n",
       "    <tr>\n",
       "      <th>2019-01-01 10:00:00</th>\n",
       "      <td>36.12</td>\n",
       "      <td>0.0</td>\n",
       "      <td>37.56</td>\n",
       "      <td>4.56</td>\n",
       "      <td>1.48</td>\n",
       "      <td>179.7</td>\n",
       "      <td>1004.86</td>\n",
       "      <td>81.8</td>\n",
       "      <td>72.302</td>\n",
       "      <td>17.698</td>\n",
       "      <td>155.930</td>\n",
       "    </tr>\n",
       "    <tr>\n",
       "      <th>2019-01-01 11:00:00</th>\n",
       "      <td>39.01</td>\n",
       "      <td>0.0</td>\n",
       "      <td>38.49</td>\n",
       "      <td>4.97</td>\n",
       "      <td>2.61</td>\n",
       "      <td>200.5</td>\n",
       "      <td>1004.43</td>\n",
       "      <td>81.2</td>\n",
       "      <td>69.239</td>\n",
       "      <td>20.761</td>\n",
       "      <td>NaN</td>\n",
       "    </tr>\n",
       "  </tbody>\n",
       "</table>\n",
       "</div>"
      ],
      "text/plain": [
       "                       ghi  dni    dhi  temp_air  wind_speed  wind_dir  \\\n",
       "Date UTC                                                                 \n",
       "2019-01-01 07:00:00   3.61  0.0   3.82      3.95         NaN     225.0   \n",
       "2019-01-01 08:00:00  19.81  0.0  19.09      3.96        2.30     214.8   \n",
       "2019-01-01 09:00:00  28.79  0.0  28.28      4.39        2.44     199.4   \n",
       "2019-01-01 10:00:00  36.12  0.0  37.56      4.56        1.48     179.7   \n",
       "2019-01-01 11:00:00  39.01  0.0  38.49      4.97        2.61     200.5   \n",
       "\n",
       "                     pressure  humidity  zenith  elevation  azimuth  \n",
       "Date UTC                                                             \n",
       "2019-01-01 07:00:00       NaN      85.8  93.381     -3.381  119.987  \n",
       "2019-01-01 08:00:00   1005.00      84.0  84.837      5.163  130.830  \n",
       "2019-01-01 09:00:00   1005.11      82.8  77.656     12.344  142.757  \n",
       "2019-01-01 10:00:00   1004.86      81.8  72.302     17.698  155.930  \n",
       "2019-01-01 11:00:00   1004.43      81.2  69.239     20.761      NaN  "
      ]
     },
     "execution_count": null,
     "metadata": {},
     "output_type": "execute_result"
    }
   ],
   "source": [
    "is_day(df_noisy).head()"
   ]
  },
  {
   "cell_type": "code",
   "execution_count": null,
   "metadata": {},
   "outputs": [],
   "source": [
    "from nbdev.showdoc import show_doc"
   ]
  },
  {
   "cell_type": "markdown",
   "metadata": {},
   "source": [
    "We define a plotting method to apply a function that mask values over the `DataFrame`.\n",
    "- The function `f` needs to ingest the `DataFrame` and output True or False, depending on the condition.\n",
    "- You can also pass a `ghi` column to ignore timesteps where there is no light (night)."
   ]
  },
  {
   "cell_type": "code",
   "execution_count": null,
   "metadata": {},
   "outputs": [],
   "source": [
    "#export\n",
    "def plot_missing(df: DataFrame, f:Callable[[DataFrame], DataFrame]=pd.isna, ghi_col:Optional[str]=None):\n",
    "    \"Plot data that satisfies the f function, optional ghi_col to exclude night\"\n",
    "    if ghi_col is not None: \n",
    "        df = is_day(df, ghi_col)\n",
    "    cols = df.columns\n",
    "    n = len(cols)\n",
    "    _, ax = plt.subplots(figsize=(15,n*0.3))\n",
    "    outliers = f(df)\n",
    "    ax.matshow(outliers.T, interpolation=None, aspect='auto')\n",
    "    xticks = np.arange(0, len(outliers), int(len(outliers)/7))\n",
    "    ax.set_xticks(xticks)\n",
    "    ax.set_xticklabels([outliers.index[i].strftime('%d-%m-%Y') for i in xticks])\n",
    "    ax.set_yticks(range(n))\n",
    "    ytickslabels = [str(name)+f' ({100*outliers[name].sum()/len(outliers[name]):.3f}%)' for name in cols.values]\n",
    "    ax.set_yticklabels(ytickslabels)\n",
    "    return"
   ]
  },
  {
   "cell_type": "markdown",
   "metadata": {},
   "source": [
    "We can see where there are the NaN's"
   ]
  },
  {
   "cell_type": "code",
   "execution_count": null,
   "metadata": {},
   "outputs": [
    {
     "data": {
      "image/png": "[encoded data removed]",
      "text/plain": [
       "<Figure size 1080x237.6 with 1 Axes>"
      ]
     },
     "metadata": {
      "needs_background": "light"
     },
     "output_type": "display_data"
    }
   ],
   "source": [
    "plot_missing(df_noisy, ghi_col='ghi')"
   ]
  },
  {
   "cell_type": "markdown",
   "metadata": {},
   "source": [
    "## Outlier functions"
   ]
  },
  {
   "cell_type": "markdown",
   "metadata": {},
   "source": [
    "Outlier functions are just any function that takes as input a `DataFrame` and outputs a `DataFrame` with bool values."
   ]
  },
  {
   "cell_type": "code",
   "execution_count": null,
   "metadata": {},
   "outputs": [],
   "source": [
    "f = lambda df: df.isna()"
   ]
  },
  {
   "cell_type": "code",
   "execution_count": null,
   "metadata": {},
   "outputs": [
    {
     "data": {
      "text/html": [
       "<div>\n",
       "<style scoped>\n",
       "    .dataframe tbody tr th:only-of-type {\n",
       "        vertical-align: middle;\n",
       "    }\n",
       "\n",
       "    .dataframe tbody tr th {\n",
       "        vertical-align: top;\n",
       "    }\n",
       "\n",
       "    .dataframe thead th {\n",
       "        text-align: right;\n",
       "    }\n",
       "</style>\n",
       "<table border=\"1\" class=\"dataframe\">\n",
       "  <thead>\n",
       "    <tr style=\"text-align: right;\">\n",
       "      <th></th>\n",
       "      <th>ghi</th>\n",
       "      <th>dni</th>\n",
       "      <th>dhi</th>\n",
       "      <th>temp_air</th>\n",
       "      <th>wind_speed</th>\n",
       "      <th>wind_dir</th>\n",
       "      <th>pressure</th>\n",
       "      <th>humidity</th>\n",
       "      <th>zenith</th>\n",
       "      <th>elevation</th>\n",
       "      <th>azimuth</th>\n",
       "    </tr>\n",
       "    <tr>\n",
       "      <th>Date UTC</th>\n",
       "      <th></th>\n",
       "      <th></th>\n",
       "      <th></th>\n",
       "      <th></th>\n",
       "      <th></th>\n",
       "      <th></th>\n",
       "      <th></th>\n",
       "      <th></th>\n",
       "      <th></th>\n",
       "      <th></th>\n",
       "      <th></th>\n",
       "    </tr>\n",
       "  </thead>\n",
       "  <tbody>\n",
       "    <tr>\n",
       "      <th>2019-01-01 00:00:00</th>\n",
       "      <td>False</td>\n",
       "      <td>False</td>\n",
       "      <td>False</td>\n",
       "      <td>False</td>\n",
       "      <td>False</td>\n",
       "      <td>False</td>\n",
       "      <td>False</td>\n",
       "      <td>False</td>\n",
       "      <td>False</td>\n",
       "      <td>True</td>\n",
       "      <td>False</td>\n",
       "    </tr>\n",
       "    <tr>\n",
       "      <th>2019-01-01 01:00:00</th>\n",
       "      <td>False</td>\n",
       "      <td>False</td>\n",
       "      <td>False</td>\n",
       "      <td>False</td>\n",
       "      <td>False</td>\n",
       "      <td>False</td>\n",
       "      <td>False</td>\n",
       "      <td>False</td>\n",
       "      <td>False</td>\n",
       "      <td>False</td>\n",
       "      <td>False</td>\n",
       "    </tr>\n",
       "    <tr>\n",
       "      <th>2019-01-01 02:00:00</th>\n",
       "      <td>False</td>\n",
       "      <td>False</td>\n",
       "      <td>False</td>\n",
       "      <td>False</td>\n",
       "      <td>False</td>\n",
       "      <td>False</td>\n",
       "      <td>False</td>\n",
       "      <td>False</td>\n",
       "      <td>True</td>\n",
       "      <td>False</td>\n",
       "      <td>False</td>\n",
       "    </tr>\n",
       "    <tr>\n",
       "      <th>2019-01-01 03:00:00</th>\n",
       "      <td>False</td>\n",
       "      <td>False</td>\n",
       "      <td>False</td>\n",
       "      <td>False</td>\n",
       "      <td>False</td>\n",
       "      <td>False</td>\n",
       "      <td>False</td>\n",
       "      <td>False</td>\n",
       "      <td>False</td>\n",
       "      <td>False</td>\n",
       "      <td>False</td>\n",
       "    </tr>\n",
       "    <tr>\n",
       "      <th>2019-01-01 04:00:00</th>\n",
       "      <td>False</td>\n",
       "      <td>False</td>\n",
       "      <td>False</td>\n",
       "      <td>True</td>\n",
       "      <td>False</td>\n",
       "      <td>False</td>\n",
       "      <td>False</td>\n",
       "      <td>False</td>\n",
       "      <td>False</td>\n",
       "      <td>False</td>\n",
       "      <td>False</td>\n",
       "    </tr>\n",
       "    <tr>\n",
       "      <th>...</th>\n",
       "      <td>...</td>\n",
       "      <td>...</td>\n",
       "      <td>...</td>\n",
       "      <td>...</td>\n",
       "      <td>...</td>\n",
       "      <td>...</td>\n",
       "      <td>...</td>\n",
       "      <td>...</td>\n",
       "      <td>...</td>\n",
       "      <td>...</td>\n",
       "      <td>...</td>\n",
       "    </tr>\n",
       "    <tr>\n",
       "      <th>2019-12-31 19:00:00</th>\n",
       "      <td>False</td>\n",
       "      <td>False</td>\n",
       "      <td>False</td>\n",
       "      <td>False</td>\n",
       "      <td>False</td>\n",
       "      <td>False</td>\n",
       "      <td>False</td>\n",
       "      <td>False</td>\n",
       "      <td>False</td>\n",
       "      <td>False</td>\n",
       "      <td>False</td>\n",
       "    </tr>\n",
       "    <tr>\n",
       "      <th>2019-12-31 20:00:00</th>\n",
       "      <td>False</td>\n",
       "      <td>False</td>\n",
       "      <td>False</td>\n",
       "      <td>True</td>\n",
       "      <td>False</td>\n",
       "      <td>False</td>\n",
       "      <td>False</td>\n",
       "      <td>False</td>\n",
       "      <td>False</td>\n",
       "      <td>False</td>\n",
       "      <td>True</td>\n",
       "    </tr>\n",
       "    <tr>\n",
       "      <th>2019-12-31 21:00:00</th>\n",
       "      <td>False</td>\n",
       "      <td>False</td>\n",
       "      <td>False</td>\n",
       "      <td>False</td>\n",
       "      <td>False</td>\n",
       "      <td>True</td>\n",
       "      <td>False</td>\n",
       "      <td>False</td>\n",
       "      <td>False</td>\n",
       "      <td>False</td>\n",
       "      <td>True</td>\n",
       "    </tr>\n",
       "    <tr>\n",
       "      <th>2019-12-31 22:00:00</th>\n",
       "      <td>False</td>\n",
       "      <td>False</td>\n",
       "      <td>False</td>\n",
       "      <td>False</td>\n",
       "      <td>False</td>\n",
       "      <td>False</td>\n",
       "      <td>False</td>\n",
       "      <td>False</td>\n",
       "      <td>False</td>\n",
       "      <td>False</td>\n",
       "      <td>False</td>\n",
       "    </tr>\n",
       "    <tr>\n",
       "      <th>2019-12-31 23:00:00</th>\n",
       "      <td>False</td>\n",
       "      <td>False</td>\n",
       "      <td>False</td>\n",
       "      <td>False</td>\n",
       "      <td>True</td>\n",
       "      <td>False</td>\n",
       "      <td>False</td>\n",
       "      <td>False</td>\n",
       "      <td>False</td>\n",
       "      <td>False</td>\n",
       "      <td>False</td>\n",
       "    </tr>\n",
       "  </tbody>\n",
       "</table>\n",
       "<p>8760 rows × 11 columns</p>\n",
       "</div>"
      ],
      "text/plain": [
       "                       ghi    dni    dhi  temp_air  wind_speed  wind_dir  \\\n",
       "Date UTC                                                                   \n",
       "2019-01-01 00:00:00  False  False  False     False       False     False   \n",
       "2019-01-01 01:00:00  False  False  False     False       False     False   \n",
       "2019-01-01 02:00:00  False  False  False     False       False     False   \n",
       "2019-01-01 03:00:00  False  False  False     False       False     False   \n",
       "2019-01-01 04:00:00  False  False  False      True       False     False   \n",
       "...                    ...    ...    ...       ...         ...       ...   \n",
       "2019-12-31 19:00:00  False  False  False     False       False     False   \n",
       "2019-12-31 20:00:00  False  False  False      True       False     False   \n",
       "2019-12-31 21:00:00  False  False  False     False       False      True   \n",
       "2019-12-31 22:00:00  False  False  False     False       False     False   \n",
       "2019-12-31 23:00:00  False  False  False     False        True     False   \n",
       "\n",
       "                     pressure  humidity  zenith  elevation  azimuth  \n",
       "Date UTC                                                             \n",
       "2019-01-01 00:00:00     False     False   False       True    False  \n",
       "2019-01-01 01:00:00     False     False   False      False    False  \n",
       "2019-01-01 02:00:00     False     False    True      False    False  \n",
       "2019-01-01 03:00:00     False     False   False      False    False  \n",
       "2019-01-01 04:00:00     False     False   False      False    False  \n",
       "...                       ...       ...     ...        ...      ...  \n",
       "2019-12-31 19:00:00     False     False   False      False    False  \n",
       "2019-12-31 20:00:00     False     False   False      False     True  \n",
       "2019-12-31 21:00:00     False     False   False      False     True  \n",
       "2019-12-31 22:00:00     False     False   False      False    False  \n",
       "2019-12-31 23:00:00     False     False   False      False    False  \n",
       "\n",
       "[8760 rows x 11 columns]"
      ]
     },
     "execution_count": null,
     "metadata": {},
     "output_type": "execute_result"
    }
   ],
   "source": [
    "f(df_noisy)"
   ]
  },
  {
   "cell_type": "markdown",
   "metadata": {},
   "source": [
    "We can define more interesting functions than `pd.isna`"
   ]
  },
  {
   "cell_type": "code",
   "execution_count": null,
   "metadata": {},
   "outputs": [],
   "source": [
    "#export\n",
    "def std_outliers(mean=0, std=1, std_coef=3):\n",
    "    \"Std outlier test func\"\n",
    "    def _inner(df): return (np.abs(df-mean)>std_coef*std)\n",
    "    return _inner\n",
    "\n",
    "def diff_outliers(std=1, std_coef=2):\n",
    "    \"Std test on 1st derivative\"\n",
    "    def _inner(df): return (df.diff().abs()>std_coef*std)\n",
    "    return _inner"
   ]
  },
  {
   "cell_type": "code",
   "execution_count": null,
   "metadata": {},
   "outputs": [],
   "source": [
    "f_std = std_outliers(df.mean(), df.std())"
   ]
  },
  {
   "cell_type": "markdown",
   "metadata": {},
   "source": [
    "You can directly apply the function to the `DataFrame`, it returs True where there is an outlier."
   ]
  },
  {
   "cell_type": "code",
   "execution_count": null,
   "metadata": {},
   "outputs": [
    {
     "data": {
      "text/html": [
       "<div>\n",
       "<style scoped>\n",
       "    .dataframe tbody tr th:only-of-type {\n",
       "        vertical-align: middle;\n",
       "    }\n",
       "\n",
       "    .dataframe tbody tr th {\n",
       "        vertical-align: top;\n",
       "    }\n",
       "\n",
       "    .dataframe thead th {\n",
       "        text-align: right;\n",
       "    }\n",
       "</style>\n",
       "<table border=\"1\" class=\"dataframe\">\n",
       "  <thead>\n",
       "    <tr style=\"text-align: right;\">\n",
       "      <th></th>\n",
       "      <th>ghi</th>\n",
       "      <th>dni</th>\n",
       "      <th>dhi</th>\n",
       "      <th>temp_air</th>\n",
       "      <th>wind_speed</th>\n",
       "      <th>wind_dir</th>\n",
       "      <th>pressure</th>\n",
       "      <th>humidity</th>\n",
       "      <th>zenith</th>\n",
       "      <th>elevation</th>\n",
       "      <th>azimuth</th>\n",
       "    </tr>\n",
       "    <tr>\n",
       "      <th>Date UTC</th>\n",
       "      <th></th>\n",
       "      <th></th>\n",
       "      <th></th>\n",
       "      <th></th>\n",
       "      <th></th>\n",
       "      <th></th>\n",
       "      <th></th>\n",
       "      <th></th>\n",
       "      <th></th>\n",
       "      <th></th>\n",
       "      <th></th>\n",
       "    </tr>\n",
       "  </thead>\n",
       "  <tbody>\n",
       "    <tr>\n",
       "      <th>2019-01-01 00:00:00</th>\n",
       "      <td>False</td>\n",
       "      <td>False</td>\n",
       "      <td>False</td>\n",
       "      <td>False</td>\n",
       "      <td>False</td>\n",
       "      <td>False</td>\n",
       "      <td>False</td>\n",
       "      <td>False</td>\n",
       "      <td>False</td>\n",
       "      <td>False</td>\n",
       "      <td>False</td>\n",
       "    </tr>\n",
       "    <tr>\n",
       "      <th>2019-01-01 01:00:00</th>\n",
       "      <td>False</td>\n",
       "      <td>False</td>\n",
       "      <td>False</td>\n",
       "      <td>False</td>\n",
       "      <td>False</td>\n",
       "      <td>False</td>\n",
       "      <td>False</td>\n",
       "      <td>False</td>\n",
       "      <td>False</td>\n",
       "      <td>False</td>\n",
       "      <td>False</td>\n",
       "    </tr>\n",
       "    <tr>\n",
       "      <th>2019-01-01 02:00:00</th>\n",
       "      <td>False</td>\n",
       "      <td>False</td>\n",
       "      <td>False</td>\n",
       "      <td>False</td>\n",
       "      <td>False</td>\n",
       "      <td>False</td>\n",
       "      <td>False</td>\n",
       "      <td>False</td>\n",
       "      <td>False</td>\n",
       "      <td>False</td>\n",
       "      <td>False</td>\n",
       "    </tr>\n",
       "    <tr>\n",
       "      <th>2019-01-01 03:00:00</th>\n",
       "      <td>False</td>\n",
       "      <td>False</td>\n",
       "      <td>False</td>\n",
       "      <td>False</td>\n",
       "      <td>False</td>\n",
       "      <td>False</td>\n",
       "      <td>False</td>\n",
       "      <td>False</td>\n",
       "      <td>False</td>\n",
       "      <td>False</td>\n",
       "      <td>False</td>\n",
       "    </tr>\n",
       "    <tr>\n",
       "      <th>2019-01-01 04:00:00</th>\n",
       "      <td>False</td>\n",
       "      <td>False</td>\n",
       "      <td>False</td>\n",
       "      <td>False</td>\n",
       "      <td>False</td>\n",
       "      <td>False</td>\n",
       "      <td>False</td>\n",
       "      <td>False</td>\n",
       "      <td>False</td>\n",
       "      <td>False</td>\n",
       "      <td>False</td>\n",
       "    </tr>\n",
       "    <tr>\n",
       "      <th>...</th>\n",
       "      <td>...</td>\n",
       "      <td>...</td>\n",
       "      <td>...</td>\n",
       "      <td>...</td>\n",
       "      <td>...</td>\n",
       "      <td>...</td>\n",
       "      <td>...</td>\n",
       "      <td>...</td>\n",
       "      <td>...</td>\n",
       "      <td>...</td>\n",
       "      <td>...</td>\n",
       "    </tr>\n",
       "    <tr>\n",
       "      <th>2019-12-31 19:00:00</th>\n",
       "      <td>False</td>\n",
       "      <td>False</td>\n",
       "      <td>False</td>\n",
       "      <td>False</td>\n",
       "      <td>False</td>\n",
       "      <td>False</td>\n",
       "      <td>False</td>\n",
       "      <td>False</td>\n",
       "      <td>False</td>\n",
       "      <td>False</td>\n",
       "      <td>False</td>\n",
       "    </tr>\n",
       "    <tr>\n",
       "      <th>2019-12-31 20:00:00</th>\n",
       "      <td>False</td>\n",
       "      <td>False</td>\n",
       "      <td>False</td>\n",
       "      <td>False</td>\n",
       "      <td>False</td>\n",
       "      <td>False</td>\n",
       "      <td>False</td>\n",
       "      <td>False</td>\n",
       "      <td>False</td>\n",
       "      <td>False</td>\n",
       "      <td>False</td>\n",
       "    </tr>\n",
       "    <tr>\n",
       "      <th>2019-12-31 21:00:00</th>\n",
       "      <td>False</td>\n",
       "      <td>False</td>\n",
       "      <td>False</td>\n",
       "      <td>False</td>\n",
       "      <td>False</td>\n",
       "      <td>False</td>\n",
       "      <td>False</td>\n",
       "      <td>False</td>\n",
       "      <td>False</td>\n",
       "      <td>False</td>\n",
       "      <td>False</td>\n",
       "    </tr>\n",
       "    <tr>\n",
       "      <th>2019-12-31 22:00:00</th>\n",
       "      <td>False</td>\n",
       "      <td>False</td>\n",
       "      <td>False</td>\n",
       "      <td>False</td>\n",
       "      <td>False</td>\n",
       "      <td>False</td>\n",
       "      <td>False</td>\n",
       "      <td>False</td>\n",
       "      <td>False</td>\n",
       "      <td>False</td>\n",
       "      <td>False</td>\n",
       "    </tr>\n",
       "    <tr>\n",
       "      <th>2019-12-31 23:00:00</th>\n",
       "      <td>False</td>\n",
       "      <td>False</td>\n",
       "      <td>False</td>\n",
       "      <td>False</td>\n",
       "      <td>False</td>\n",
       "      <td>False</td>\n",
       "      <td>False</td>\n",
       "      <td>False</td>\n",
       "      <td>False</td>\n",
       "      <td>False</td>\n",
       "      <td>False</td>\n",
       "    </tr>\n",
       "  </tbody>\n",
       "</table>\n",
       "<p>8760 rows × 11 columns</p>\n",
       "</div>"
      ],
      "text/plain": [
       "                       ghi    dni    dhi  temp_air  wind_speed  wind_dir  \\\n",
       "Date UTC                                                                   \n",
       "2019-01-01 00:00:00  False  False  False     False       False     False   \n",
       "2019-01-01 01:00:00  False  False  False     False       False     False   \n",
       "2019-01-01 02:00:00  False  False  False     False       False     False   \n",
       "2019-01-01 03:00:00  False  False  False     False       False     False   \n",
       "2019-01-01 04:00:00  False  False  False     False       False     False   \n",
       "...                    ...    ...    ...       ...         ...       ...   \n",
       "2019-12-31 19:00:00  False  False  False     False       False     False   \n",
       "2019-12-31 20:00:00  False  False  False     False       False     False   \n",
       "2019-12-31 21:00:00  False  False  False     False       False     False   \n",
       "2019-12-31 22:00:00  False  False  False     False       False     False   \n",
       "2019-12-31 23:00:00  False  False  False     False       False     False   \n",
       "\n",
       "                     pressure  humidity  zenith  elevation  azimuth  \n",
       "Date UTC                                                             \n",
       "2019-01-01 00:00:00     False     False   False      False    False  \n",
       "2019-01-01 01:00:00     False     False   False      False    False  \n",
       "2019-01-01 02:00:00     False     False   False      False    False  \n",
       "2019-01-01 03:00:00     False     False   False      False    False  \n",
       "2019-01-01 04:00:00     False     False   False      False    False  \n",
       "...                       ...       ...     ...        ...      ...  \n",
       "2019-12-31 19:00:00     False     False   False      False    False  \n",
       "2019-12-31 20:00:00     False     False   False      False    False  \n",
       "2019-12-31 21:00:00     False     False   False      False    False  \n",
       "2019-12-31 22:00:00     False     False   False      False    False  \n",
       "2019-12-31 23:00:00     False     False   False      False    False  \n",
       "\n",
       "[8760 rows x 11 columns]"
      ]
     },
     "execution_count": null,
     "metadata": {},
     "output_type": "execute_result"
    }
   ],
   "source": [
    "f_std(df_noisy)"
   ]
  },
  {
   "cell_type": "markdown",
   "metadata": {},
   "source": [
    "It shows the values that are more than 3 stds away from the mean (95% normal distribution cutoff)"
   ]
  },
  {
   "cell_type": "code",
   "execution_count": null,
   "metadata": {},
   "outputs": [
    {
     "data": {
      "image/png": "[encoded data removed]",
      "text/plain": [
       "<Figure size 1080x237.6 with 1 Axes>"
      ]
     },
     "metadata": {
      "needs_background": "light"
     },
     "output_type": "display_data"
    }
   ],
   "source": [
    "plot_missing(df_noisy, f=f_std)"
   ]
  },
  {
   "cell_type": "markdown",
   "metadata": {},
   "source": [
    "We can further explore this, A lot of values are bad and stuck at -9999, this has to be corrected or dropped."
   ]
  },
  {
   "cell_type": "code",
   "execution_count": null,
   "metadata": {},
   "outputs": [
    {
     "data": {
      "image/png": "[encoded data removed]",
      "text/plain": [
       "<Figure size 432x288 with 1 Axes>"
      ]
     },
     "metadata": {
      "needs_background": "light"
     },
     "output_type": "display_data"
    }
   ],
   "source": [
    "df_noisy.loc['7 2019', 'ghi'].plot();"
   ]
  },
  {
   "cell_type": "markdown",
   "metadata": {},
   "source": [
    "We can also compose various criteria: "
   ]
  },
  {
   "cell_type": "code",
   "execution_count": null,
   "metadata": {},
   "outputs": [],
   "source": [
    "#export\n",
    "def comp(l):\n",
    "    'Compose operator for outlier funcs'\n",
    "    def _inner(df): return reduce(operator.or_, [f(df) for f in l])\n",
    "    return _inner"
   ]
  },
  {
   "cell_type": "markdown",
   "metadata": {},
   "source": [
    "Using the compose operator, we can check at the same time if there are NaN's and if the values fit the `f_std` func."
   ]
  },
  {
   "cell_type": "code",
   "execution_count": null,
   "metadata": {},
   "outputs": [
    {
     "data": {
      "image/png": "[encoded data removed]",
      "text/plain": [
       "<Figure size 1080x237.6 with 1 Axes>"
      ]
     },
     "metadata": {
      "needs_background": "light"
     },
     "output_type": "display_data"
    }
   ],
   "source": [
    "plot_missing(df_noisy, f = comp([pd.isna, f_std]))"
   ]
  },
  {
   "cell_type": "markdown",
   "metadata": {},
   "source": [
    "We want a method to visualize anomalies by columns, one by one.\n",
    "- `view_anomaly` takes a column (a `Series`) and plots the valuer where the outlier function is activated. "
   ]
  },
  {
   "cell_type": "code",
   "execution_count": null,
   "metadata": {},
   "outputs": [],
   "source": [
    "#export\n",
    "def view_anomaly(s: Series, f=std_outliers(0,1,3)):\n",
    "    \"Plots the missing/anomaly points\"\n",
    "    _, ax = plt.subplots(figsize=(14,6))\n",
    "    a = f(s)\n",
    "    ax.set_title(f' Anomaly rate: ({100*a.values.sum()/len(s):.3f}%)')\n",
    "    ax.plot(s, color='blue', label = 'Normal')\n",
    "    ax.scatter(a[a].index, s[a].fillna(0), color='red', label = 'Anomaly')\n",
    "    ax.legend()\n",
    "    return ax"
   ]
  },
  {
   "cell_type": "code",
   "execution_count": null,
   "metadata": {},
   "outputs": [
    {
     "data": {
      "image/png": "[encoded data removed]",
      "text/plain": [
       "<Figure size 1008x432 with 1 Axes>"
      ]
     },
     "metadata": {
      "needs_background": "light"
     },
     "output_type": "display_data"
    }
   ],
   "source": [
    "s = df_noisy.loc['08 Aug 2019':'10 Aug 2019', 'ghi']\n",
    "f_outlier = comp([pd.isna, std_outliers(s.mean(), s.std())])\n",
    "view_anomaly(s, f=f_outlier);"
   ]
  },
  {
   "cell_type": "markdown",
   "metadata": {},
   "source": [
    "The oulier function will mask valid points:"
   ]
  },
  {
   "cell_type": "code",
   "execution_count": null,
   "metadata": {},
   "outputs": [
    {
     "data": {
      "text/plain": [
       "Date UTC\n",
       "2019-08-10 00:00:00     True\n",
       "2019-08-10 01:00:00    False\n",
       "2019-08-10 02:00:00    False\n",
       "2019-08-10 03:00:00    False\n",
       "2019-08-10 04:00:00     True\n",
       "2019-08-10 05:00:00     True\n",
       "2019-08-10 06:00:00    False\n",
       "2019-08-10 07:00:00     True\n",
       "2019-08-10 08:00:00    False\n",
       "2019-08-10 09:00:00     True\n",
       "2019-08-10 10:00:00    False\n",
       "2019-08-10 11:00:00    False\n",
       "2019-08-10 12:00:00    False\n",
       "2019-08-10 13:00:00    False\n",
       "2019-08-10 14:00:00    False\n",
       "2019-08-10 15:00:00    False\n",
       "2019-08-10 16:00:00    False\n",
       "2019-08-10 17:00:00     True\n",
       "2019-08-10 18:00:00    False\n",
       "2019-08-10 19:00:00    False\n",
       "2019-08-10 20:00:00    False\n",
       "2019-08-10 21:00:00    False\n",
       "2019-08-10 22:00:00     True\n",
       "2019-08-10 23:00:00    False\n",
       "Freq: H, Name: ghi, dtype: bool"
      ]
     },
     "execution_count": null,
     "metadata": {},
     "output_type": "execute_result"
    }
   ],
   "source": [
    "f_outlier(s['10 Aug 2019'])"
   ]
  },
  {
   "cell_type": "markdown",
   "metadata": {},
   "source": [
    "It is very useful to detect stuck values, "
   ]
  },
  {
   "cell_type": "code",
   "execution_count": null,
   "metadata": {},
   "outputs": [],
   "source": [
    "s9 = s['9 Aug 2019']"
   ]
  },
  {
   "cell_type": "code",
   "execution_count": null,
   "metadata": {},
   "outputs": [],
   "source": [
    "#exports\n",
    "def stuck_outlier(tol:float=1e-3, periods=1):\n",
    "    \"Detects if the values are stuck\"\n",
    "    def _inner(df):\n",
    "        return df.diff().abs().rolling(periods, center=True).max()<tol\n",
    "    return _inner"
   ]
  },
  {
   "cell_type": "code",
   "execution_count": null,
   "metadata": {},
   "outputs": [
    {
     "data": {
      "image/png": "[encoded data removed]",
      "text/plain": [
       "<Figure size 1008x432 with 1 Axes>"
      ]
     },
     "metadata": {
      "needs_background": "light"
     },
     "output_type": "display_data"
    }
   ],
   "source": [
    "view_anomaly(s9, stuck_outlier());"
   ]
  },
  {
   "cell_type": "markdown",
   "metadata": {},
   "source": [
    "## Filter Data"
   ]
  },
  {
   "cell_type": "markdown",
   "metadata": {},
   "source": [
    " Don't remember why I needed this"
   ]
  },
  {
   "cell_type": "code",
   "execution_count": null,
   "metadata": {},
   "outputs": [],
   "source": [
    "#export\n",
    "def percentile_cutoff(data, p_low=5, p_high=95):\n",
    "    q_low = np.percentile(data,p_low)\n",
    "    q_high = np.percentile(data, p_high)\n",
    "    iqr = q_high - q_low\n",
    "    cut_off = iqr * 1.25\n",
    "    lower, upper = q_low - cut_off, q_high + cut_off\n",
    "    return lower, upper"
   ]
  },
  {
   "cell_type": "markdown",
   "metadata": {},
   "source": [
    "We will build a sklearn compatible `pipeline` to process our data. This will save us time later on"
   ]
  },
  {
   "cell_type": "code",
   "execution_count": null,
   "metadata": {},
   "outputs": [],
   "source": [
    "#export\n",
    "class MinMaxRemoval(TransformerMixin):\n",
    "    \"Remove values outside Min-Max within a given tolerance\"\n",
    "    def __init__(self, min_max_tol_dict:dict):\n",
    "        \"A dictionary with the [min, max] interval and a tolerance\"\n",
    "        self.d = min_max_tol_dict\n",
    "    \n",
    "    def fit(self, X, y=None):\n",
    "        return self\n",
    "    \n",
    "    def transform(self, X:DataFrame, y=None):\n",
    "        \"Apply the transform to your data df\"\n",
    "        \n",
    "        X = X.copy()\n",
    "        for c, val in self.d.items():\n",
    "            m, M, tol = val\n",
    "            X[c] = (X[c].mask(np.abs(X[c] - m) < tol, m)  #min replace\n",
    "                        .mask(np.abs(X[c] - M) < tol, M)  #max replace\n",
    "                        .where((m - tol < X[c]) & (X[c] < M + tol))  #else replace by NaN\n",
    "                   )\n",
    "        return X"
   ]
  },
  {
   "cell_type": "code",
   "execution_count": null,
   "metadata": {},
   "outputs": [
    {
     "data": {
      "text/plain": [
       "Index(['ghi', 'dni', 'dhi', 'temp_air', 'wind_speed', 'wind_dir', 'pressure',\n",
       "       'humidity', 'zenith', 'elevation', 'azimuth'],\n",
       "      dtype='object')"
      ]
     },
     "execution_count": null,
     "metadata": {},
     "output_type": "execute_result"
    }
   ],
   "source": [
    "df.columns"
   ]
  },
  {
   "cell_type": "code",
   "execution_count": null,
   "metadata": {},
   "outputs": [],
   "source": [
    "d = {}\n",
    "d['temp_air'] = (-20,50,1.0)\n",
    "d['wind_speed'] = (0,30,0.1)\n",
    "d['wind_dir'] = (0,360,5.0)\n",
    "d['ghi'] = (0, 1300,10.0)\n",
    "d['dni'] = (0, 1300,10.0)\n",
    "d['dhi'] = (0, 1300,10.0)\n",
    "d['pressure'] = (900, 1100,1.0)\n",
    "d['humidity'] = (0,100,1.0)"
   ]
  },
  {
   "cell_type": "markdown",
   "metadata": {},
   "source": [
    "You need to define the Transoform"
   ]
  },
  {
   "cell_type": "code",
   "execution_count": null,
   "metadata": {},
   "outputs": [],
   "source": [
    "mmr = MinMaxRemoval(d)"
   ]
  },
  {
   "cell_type": "code",
   "execution_count": null,
   "metadata": {},
   "outputs": [
    {
     "data": {
      "text/markdown": [
       "<h4 id=\"MinMaxRemoval.transform\" class=\"doc_header\"><code>MinMaxRemoval.transform</code><a href=\"__main__.py#L11\" class=\"source_link\" style=\"float:right\">[source]</a></h4>\n",
       "\n",
       "> <code>MinMaxRemoval.transform</code>(**`X`**:`DataFrame`, **`y`**=*`None`*)\n",
       "\n",
       "Apply the transform to your data df"
      ],
      "text/plain": [
       "<IPython.core.display.Markdown object>"
      ]
     },
     "metadata": {},
     "output_type": "display_data"
    }
   ],
   "source": [
    "show_doc(MinMaxRemoval.transform)"
   ]
  },
  {
   "cell_type": "markdown",
   "metadata": {},
   "source": [
    "and actually apply to your data"
   ]
  },
  {
   "cell_type": "code",
   "execution_count": null,
   "metadata": {},
   "outputs": [],
   "source": [
    "mm_df = mmr.transform(df)"
   ]
  },
  {
   "cell_type": "markdown",
   "metadata": {},
   "source": [
    "# Exports -"
   ]
  },
  {
   "cell_type": "code",
   "execution_count": null,
   "metadata": {},
   "outputs": [
    {
     "name": "stdout",
     "output_type": "stream",
     "text": [
      "Converted 00_utils.core.ipynb.\n",
      "Converted 01_utils.pandas_hacks.ipynb.\n",
      "Converted 03_utils.matlab_io.ipynb.\n",
      "Converted 03_utils.tmy.ipynb.\n",
      "Converted 04_utils.missing.ipynb.\n",
      "Converted 05_utils.plot.ipynb.\n",
      "Converted 06_modelling.mybifacialvf.ipynb.\n",
      "Converted 07_modelling.mypvfactors.ipynb.\n",
      "Converted index.ipynb.\n"
     ]
    }
   ],
   "source": [
    "#hide\n",
    "from nbdev.export import notebook2script\n",
    "notebook2script()"
   ]
  },
  {
   "cell_type": "code",
   "execution_count": null,
   "metadata": {},
   "outputs": [],
   "source": []
  }
 ],
 "metadata": {
  "kernelspec": {
   "display_name": "Python 3",
   "language": "python",
   "name": "python3"
  }
 },
 "nbformat": 4,
 "nbformat_minor": 2
}
