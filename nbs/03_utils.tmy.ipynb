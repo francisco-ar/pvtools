{
 "cells": [
  {
   "cell_type": "code",
   "execution_count": null,
   "metadata": {},
   "outputs": [],
   "source": [
    "#default_exp utils.tmy"
   ]
  },
  {
   "cell_type": "code",
   "execution_count": null,
   "metadata": {},
   "outputs": [],
   "source": [
    "#export\n",
    "from capetools.imports import *\n",
    "import dateutil\n",
    "import pandas as pd\n",
    "import pytz"
   ]
  },
  {
   "cell_type": "markdown",
   "metadata": {},
   "source": [
    "# TMY: Typical Meteorological Year\n",
    "> Reading different types of tmy files"
   ]
  },
  {
   "cell_type": "code",
   "execution_count": null,
   "metadata": {},
   "outputs": [
    {
     "data": {
      "text/plain": [
       "(#2) [Path('/home/tc256760/Documents/capetools/data/pvgis_tmy_chambery.csv'),Path('/home/tc256760/Documents/capetools/data/sample_data.hdf')]"
      ]
     },
     "execution_count": null,
     "metadata": {},
     "output_type": "execute_result"
    }
   ],
   "source": [
    "DATAPATH = Path.cwd().parent/'data'\n",
    "DATAPATH.ls()"
   ]
  },
  {
   "cell_type": "markdown",
   "metadata": {},
   "source": [
    "## [PVGIS](https://re.jrc.ec.europa.eu/pvgis_tools)\n",
    "One can download TMY files for EU from this website\n",
    "- The files structure changed recently (Nov 2019) so this function should work.\n"
   ]
  },
  {
   "cell_type": "code",
   "execution_count": null,
   "metadata": {},
   "outputs": [],
   "source": [
    "#export\n",
    "def read_pvgis(filename: File, coerce_year: int=None, rename_cols: bool=True):\n",
    "    \"Utility function to read PVGIS tmy files\"\n",
    "    with open(filename, 'r') as csvdata:\n",
    "        # read in file metadata, advance buffer to second line\n",
    "        gps_data = {}\n",
    "        for _ in range(3):\n",
    "            line = csvdata.readline()\n",
    "            attribute = line.rstrip('\\n').split(\":\")\n",
    "            gps_data[attribute[0][0:-1]] = float(attribute[1])\n",
    "\n",
    "        months_year = pd.read_csv(csvdata, nrows=12, engine='python').set_index('month')\n",
    "    \n",
    "        def _parsedate(date_str, year=None):\n",
    "            \"parser to get a coerced year from a tmy file\"\n",
    "            date = pd.datetime.strptime(date_str, '%Y%m%d:%H%M')\n",
    "            if year is not None:\n",
    "                date = date.replace(year=year)\n",
    "            return date\n",
    "\n",
    "\n",
    "        col_names = 'time(UTC),T2m,RH,G(h),Gb(n),Gd(h),IR(h),WS10m,WD10m,SP'.split(',')\n",
    "        new_names = 'date,temp,humidity,ghi,dni,dhi,infra,ws,wd,pressure'.split(',')\n",
    "        date_col = col_names[0]\n",
    "        data = pd.read_csv(csvdata,\n",
    "                           header=0,\n",
    "                           names=col_names,\n",
    "                           parse_dates=True,\n",
    "                           date_parser=lambda x: _parsedate(x, year=coerce_year),\n",
    "                           index_col=date_col,\n",
    "                           nrows=365*24)\n",
    "        return gps_data,months_year,data.rename(columns=dict(zip(col_names, new_names)))\n"
   ]
  },
  {
   "cell_type": "markdown",
   "metadata": {},
   "source": [
    "We can ingest a tmy from pvgis and coerce on year 2019 using this function:"
   ]
  },
  {
   "cell_type": "code",
   "execution_count": null,
   "metadata": {},
   "outputs": [],
   "source": [
    "gps_data, months_year, data = read_pvgis(DATAPATH/'pvgis_tmy_chambery.csv', coerce_year=2019)"
   ]
  },
  {
   "cell_type": "code",
   "execution_count": null,
   "metadata": {},
   "outputs": [
    {
     "data": {
      "text/plain": [
       "{'Latitude (decimal degrees': 45.641,\n",
       " 'Longitude (decimal degrees': 5.875,\n",
       " 'Elevation (m': 235.0}"
      ]
     },
     "execution_count": null,
     "metadata": {},
     "output_type": "execute_result"
    }
   ],
   "source": [
    "gps_data"
   ]
  },
  {
   "cell_type": "markdown",
   "metadata": {},
   "source": [
    "We also recover the correspondance"
   ]
  },
  {
   "cell_type": "code",
   "execution_count": null,
   "metadata": {},
   "outputs": [
    {
     "data": {
      "text/html": [
       "<div>\n",
       "<style scoped>\n",
       "    .dataframe tbody tr th:only-of-type {\n",
       "        vertical-align: middle;\n",
       "    }\n",
       "\n",
       "    .dataframe tbody tr th {\n",
       "        vertical-align: top;\n",
       "    }\n",
       "\n",
       "    .dataframe thead th {\n",
       "        text-align: right;\n",
       "    }\n",
       "</style>\n",
       "<table border=\"1\" class=\"dataframe\">\n",
       "  <thead>\n",
       "    <tr style=\"text-align: right;\">\n",
       "      <th></th>\n",
       "      <th>year</th>\n",
       "    </tr>\n",
       "    <tr>\n",
       "      <th>month</th>\n",
       "      <th></th>\n",
       "    </tr>\n",
       "  </thead>\n",
       "  <tbody>\n",
       "    <tr>\n",
       "      <th>1</th>\n",
       "      <td>2012</td>\n",
       "    </tr>\n",
       "    <tr>\n",
       "      <th>2</th>\n",
       "      <td>2007</td>\n",
       "    </tr>\n",
       "    <tr>\n",
       "      <th>3</th>\n",
       "      <td>2007</td>\n",
       "    </tr>\n",
       "    <tr>\n",
       "      <th>4</th>\n",
       "      <td>2016</td>\n",
       "    </tr>\n",
       "    <tr>\n",
       "      <th>5</th>\n",
       "      <td>2012</td>\n",
       "    </tr>\n",
       "    <tr>\n",
       "      <th>6</th>\n",
       "      <td>2007</td>\n",
       "    </tr>\n",
       "    <tr>\n",
       "      <th>7</th>\n",
       "      <td>2008</td>\n",
       "    </tr>\n",
       "    <tr>\n",
       "      <th>8</th>\n",
       "      <td>2014</td>\n",
       "    </tr>\n",
       "    <tr>\n",
       "      <th>9</th>\n",
       "      <td>2016</td>\n",
       "    </tr>\n",
       "    <tr>\n",
       "      <th>10</th>\n",
       "      <td>2016</td>\n",
       "    </tr>\n",
       "    <tr>\n",
       "      <th>11</th>\n",
       "      <td>2008</td>\n",
       "    </tr>\n",
       "    <tr>\n",
       "      <th>12</th>\n",
       "      <td>2014</td>\n",
       "    </tr>\n",
       "  </tbody>\n",
       "</table>\n",
       "</div>"
      ],
      "text/plain": [
       "       year\n",
       "month      \n",
       "1      2012\n",
       "2      2007\n",
       "3      2007\n",
       "4      2016\n",
       "5      2012\n",
       "6      2007\n",
       "7      2008\n",
       "8      2014\n",
       "9      2016\n",
       "10     2016\n",
       "11     2008\n",
       "12     2014"
      ]
     },
     "execution_count": null,
     "metadata": {},
     "output_type": "execute_result"
    }
   ],
   "source": [
    "months_year"
   ]
  },
  {
   "cell_type": "code",
   "execution_count": null,
   "metadata": {},
   "outputs": [
    {
     "data": {
      "text/html": [
       "<div>\n",
       "<style scoped>\n",
       "    .dataframe tbody tr th:only-of-type {\n",
       "        vertical-align: middle;\n",
       "    }\n",
       "\n",
       "    .dataframe tbody tr th {\n",
       "        vertical-align: top;\n",
       "    }\n",
       "\n",
       "    .dataframe thead th {\n",
       "        text-align: right;\n",
       "    }\n",
       "</style>\n",
       "<table border=\"1\" class=\"dataframe\">\n",
       "  <thead>\n",
       "    <tr style=\"text-align: right;\">\n",
       "      <th></th>\n",
       "      <th>temp</th>\n",
       "      <th>humidity</th>\n",
       "      <th>ghi</th>\n",
       "      <th>dni</th>\n",
       "      <th>dhi</th>\n",
       "      <th>infra</th>\n",
       "      <th>ws</th>\n",
       "      <th>wd</th>\n",
       "      <th>pressure</th>\n",
       "    </tr>\n",
       "    <tr>\n",
       "      <th>time(UTC)</th>\n",
       "      <th></th>\n",
       "      <th></th>\n",
       "      <th></th>\n",
       "      <th></th>\n",
       "      <th></th>\n",
       "      <th></th>\n",
       "      <th></th>\n",
       "      <th></th>\n",
       "      <th></th>\n",
       "    </tr>\n",
       "  </thead>\n",
       "  <tbody>\n",
       "    <tr>\n",
       "      <th>2019-01-01 00:00:00</th>\n",
       "      <td>2.87</td>\n",
       "      <td>88.28</td>\n",
       "      <td>0.0</td>\n",
       "      <td>-0.0</td>\n",
       "      <td>0.0</td>\n",
       "      <td>259.63</td>\n",
       "      <td>1.33</td>\n",
       "      <td>170.0</td>\n",
       "      <td>99504.0</td>\n",
       "    </tr>\n",
       "    <tr>\n",
       "      <th>2019-01-01 01:00:00</th>\n",
       "      <td>3.59</td>\n",
       "      <td>90.07</td>\n",
       "      <td>0.0</td>\n",
       "      <td>-0.0</td>\n",
       "      <td>0.0</td>\n",
       "      <td>268.30</td>\n",
       "      <td>1.39</td>\n",
       "      <td>166.0</td>\n",
       "      <td>99508.0</td>\n",
       "    </tr>\n",
       "    <tr>\n",
       "      <th>2019-01-01 02:00:00</th>\n",
       "      <td>4.32</td>\n",
       "      <td>91.86</td>\n",
       "      <td>0.0</td>\n",
       "      <td>-0.0</td>\n",
       "      <td>0.0</td>\n",
       "      <td>276.97</td>\n",
       "      <td>1.45</td>\n",
       "      <td>162.0</td>\n",
       "      <td>99511.0</td>\n",
       "    </tr>\n",
       "    <tr>\n",
       "      <th>2019-01-01 03:00:00</th>\n",
       "      <td>5.04</td>\n",
       "      <td>93.64</td>\n",
       "      <td>0.0</td>\n",
       "      <td>-0.0</td>\n",
       "      <td>0.0</td>\n",
       "      <td>285.64</td>\n",
       "      <td>1.51</td>\n",
       "      <td>167.0</td>\n",
       "      <td>99517.0</td>\n",
       "    </tr>\n",
       "    <tr>\n",
       "      <th>2019-01-01 04:00:00</th>\n",
       "      <td>5.76</td>\n",
       "      <td>95.43</td>\n",
       "      <td>0.0</td>\n",
       "      <td>-0.0</td>\n",
       "      <td>0.0</td>\n",
       "      <td>294.32</td>\n",
       "      <td>1.57</td>\n",
       "      <td>171.0</td>\n",
       "      <td>99524.0</td>\n",
       "    </tr>\n",
       "  </tbody>\n",
       "</table>\n",
       "</div>"
      ],
      "text/plain": [
       "                     temp  humidity  ghi  dni  dhi   infra    ws     wd  \\\n",
       "time(UTC)                                                                 \n",
       "2019-01-01 00:00:00  2.87     88.28  0.0 -0.0  0.0  259.63  1.33  170.0   \n",
       "2019-01-01 01:00:00  3.59     90.07  0.0 -0.0  0.0  268.30  1.39  166.0   \n",
       "2019-01-01 02:00:00  4.32     91.86  0.0 -0.0  0.0  276.97  1.45  162.0   \n",
       "2019-01-01 03:00:00  5.04     93.64  0.0 -0.0  0.0  285.64  1.51  167.0   \n",
       "2019-01-01 04:00:00  5.76     95.43  0.0 -0.0  0.0  294.32  1.57  171.0   \n",
       "\n",
       "                     pressure  \n",
       "time(UTC)                      \n",
       "2019-01-01 00:00:00   99504.0  \n",
       "2019-01-01 01:00:00   99508.0  \n",
       "2019-01-01 02:00:00   99511.0  \n",
       "2019-01-01 03:00:00   99517.0  \n",
       "2019-01-01 04:00:00   99524.0  "
      ]
     },
     "execution_count": null,
     "metadata": {},
     "output_type": "execute_result"
    }
   ],
   "source": [
    "data.head()"
   ]
  },
  {
   "cell_type": "markdown",
   "metadata": {},
   "source": [
    "## Other TMY reading method\n",
    "> May be useful, don't remeber."
   ]
  },
  {
   "cell_type": "code",
   "execution_count": null,
   "metadata": {},
   "outputs": [],
   "source": [
    "#export\n",
    "def read_tmy(filename: File, columns:Optional[list]=None, coerce_year:Optional[int]=None):\n",
    "    \"Reads TMY files with dates on 5 first cols.\"\n",
    "    if columns is None:\n",
    "        columns = ['ghi', 'dni', 'dhi','temp_air', 'temp_dew', \n",
    "                   'humidity', 'air_pressure','wind_speed', 'wind_dir', 'snow']\n",
    "    with open(filename, 'r') as csvdata:\n",
    "        # read in file metadata, advance buffer to second line\n",
    "        firstline = csvdata.readline().rstrip('\\n').split(\",\")\n",
    "        secondline = csvdata.readline().rstrip('\\n').split(\",\")\n",
    "        meta = dict(zip(firstline,secondline))\n",
    "        meta['Latitude'] = float(meta['Latitude'])\n",
    "        meta['Longitude'] = float(meta['Longitude'])\n",
    "        meta['Elevation'] = float(meta['Elevation'])\n",
    "        meta['Time Zone'] = int(meta['Time Zone'])\n",
    "        fixed_tz = pytz.FixedOffset(float(meta['Time Zone']) * 60)\n",
    "        def _parsedate(ymdh, year=None):\n",
    "            \"parser to get a coerced year from a tmy file\"\n",
    "            ymdh = pd.datetime.strptime(ymdh, '%Y %m %d %H %M')\n",
    "            if year is not None:\n",
    "                ymdh = ymdh.replace(year=year)\n",
    "            return ymdh  \n",
    "        data = pd.read_csv(csvdata, header=0, \n",
    "                           index_col='datetime', \n",
    "                           parse_dates={'datetime': [0,1,2,3,4]}, \n",
    "                           date_parser=lambda x: _parsedate(x, year=coerce_year)\n",
    "                          )\n",
    "        data.columns = columns\n",
    "        return meta, data.tz_localize(fixed_tz)"
   ]
  },
  {
   "cell_type": "markdown",
   "metadata": {},
   "source": [
    "# Export -"
   ]
  },
  {
   "cell_type": "code",
   "execution_count": null,
   "metadata": {},
   "outputs": [
    {
     "name": "stdout",
     "output_type": "stream",
     "text": [
      "Converted 00_utils.core.ipynb.\n",
      "Converted 01_utils.pandas_hacks.ipynb.\n",
      "Converted 03_utils.matlab_io.ipynb.\n",
      "Converted 03_utils.tmy.ipynb.\n",
      "Converted 04_utils.missing.ipynb.\n",
      "Converted 05_utils.plot.ipynb.\n",
      "Converted 06_modelling.mybifacialvf.ipynb.\n",
      "Converted 07_modelling.mypvfactors.ipynb.\n",
      "Converted index.ipynb.\n"
     ]
    }
   ],
   "source": [
    "#hide\n",
    "from nbdev.export import notebook2script\n",
    "notebook2script()"
   ]
  },
  {
   "cell_type": "code",
   "execution_count": null,
   "metadata": {},
   "outputs": [],
   "source": []
  }
 ],
 "metadata": {
  "kernelspec": {
   "display_name": "Python 3",
   "language": "python",
   "name": "python3"
  }
 },
 "nbformat": 4,
 "nbformat_minor": 2
}
