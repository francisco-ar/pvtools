{
 "cells": [
  {
   "cell_type": "code",
   "execution_count": null,
   "metadata": {},
   "outputs": [],
   "source": [
    "#default_exp utils.tmy"
   ]
  },
  {
   "cell_type": "code",
   "execution_count": null,
   "metadata": {},
   "outputs": [],
   "source": [
    "#export\n",
    "from capetools.imports import *\n",
    "import dateutil\n",
    "import pandas as pd\n",
    "import pytz"
   ]
  },
  {
   "cell_type": "markdown",
   "metadata": {},
   "source": [
    "# TMY: Typical Meteorological Year\n",
    "> Reading different types of tmy files"
   ]
  },
  {
   "cell_type": "code",
   "execution_count": null,
   "metadata": {},
   "outputs": [],
   "source": [
    "#export\n",
    "def read_tmy(filename: File, columns:Optional[list]=None, coerce_year:Optional[int]=None):\n",
    "    \"Reads TMY files with dates on 5 first cols.\"\n",
    "    if columns is None:\n",
    "        columns = ['ghi', 'dni', 'dhi','temp_air', 'temp_dew', \n",
    "                   'humidity', 'air_pressure','wind_speed', 'wind_dir', 'snow']\n",
    "    with open(filename, 'r') as csvdata:\n",
    "        # read in file metadata, advance buffer to second line\n",
    "        firstline = csvdata.readline().rstrip('\\n').split(\",\")\n",
    "        secondline = csvdata.readline().rstrip('\\n').split(\",\")\n",
    "        meta = dict(zip(firstline,secondline))\n",
    "        meta['Latitude'] = float(meta['Latitude'])\n",
    "        meta['Longitude'] = float(meta['Longitude'])\n",
    "        meta['Elevation'] = float(meta['Elevation'])\n",
    "        meta['Time Zone'] = int(meta['Time Zone'])\n",
    "        fixed_tz = pytz.FixedOffset(float(meta['Time Zone']) * 60)\n",
    "        def _parsedate(ymdh, year=None):\n",
    "            \"parser to get a coerced year from a tmy file\"\n",
    "            ymdh = pd.datetime.strptime(ymdh, '%Y %m %d %H %M')\n",
    "            if year is not None:\n",
    "                ymdh = ymdh.replace(year=year)\n",
    "            return ymdh  \n",
    "        data = pd.read_csv(csvdata, header=0, \n",
    "                           index_col='datetime', \n",
    "                           parse_dates={'datetime': [0,1,2,3,4]}, \n",
    "                           date_parser=lambda x: _parsedate(x, year=coerce_year)\n",
    "                          )\n",
    "        data.columns = columns\n",
    "        return meta, data.tz_localize(fixed_tz)"
   ]
  },
  {
   "cell_type": "code",
   "execution_count": null,
   "metadata": {},
   "outputs": [],
   "source": [
    "#export\n",
    "def read_pvgis(filename, coerce_year=None):\n",
    "    \"Utility function to read PVGIS tmy files\"\n",
    "    with open(filename, 'r') as csvdata:\n",
    "        # read in file metadata, advance buffer to second line\n",
    "        gps_data = {}\n",
    "        for _ in range(3):\n",
    "            line = csvdata.readline()\n",
    "            attribute = line.rstrip('\\n').split(\" \")\n",
    "            gps_data[attribute[0][0:-1]] = float(attribute[1])\n",
    "\n",
    "        months_year = pd.read_csv(csvdata, nrows=12, engine='python')\n",
    "    \n",
    "        def _parsedate(ymdh, year=None):\n",
    "            \"parser to get a coerced year from a tmy file\"\n",
    "\n",
    "            date = dateutil.parser.parse(ymdh, dayfirst=True)\n",
    "            if year is not None:\n",
    "                date = date.replace(year=year)\n",
    "            return date\n",
    "\n",
    "        date_col = 'datetime'\n",
    "        col_names = ['datetime','temp_air','humidity','ghi', 'dni', 'dhi',\n",
    "                    'infrared_downwars', 'wind_speed', 'wind_dir','air_pressure']\n",
    "        data = pd.read_csv(csvdata, \n",
    "                           header=0,\n",
    "                           names=col_names,\n",
    "                           parse_dates=True,\n",
    "                           date_parser=lambda x: _parsedate(x, year=coerce_year),\n",
    "                           index_col=date_col)\n",
    "        return gps_data, months_year, data\n"
   ]
  },
  {
   "cell_type": "markdown",
   "metadata": {},
   "source": [
    "# Export -"
   ]
  },
  {
   "cell_type": "code",
   "execution_count": null,
   "metadata": {},
   "outputs": [
    {
     "name": "stdout",
     "output_type": "stream",
     "text": [
      "Converted 00_utils.core.ipynb.\n",
      "Converted 01_utils.pandas_hacks.ipynb.\n",
      "Converted 03_utils.matlab_io.ipynb.\n",
      "Converted 03_utils.tmy.ipynb.\n",
      "Converted 04_utils.missing.ipynb.\n",
      "Converted 05_utils.plot.ipynb.\n",
      "Converted 06_modelling.mybifacialvf.ipynb.\n",
      "Converted 07_modelling.mypvfactors.ipynb.\n",
      "Converted index.ipynb.\n"
     ]
    }
   ],
   "source": [
    "#hide\n",
    "from nbdev.export import notebook2script\n",
    "notebook2script()"
   ]
  }
 ],
 "metadata": {
  "kernelspec": {
   "display_name": "Python 3",
   "language": "python",
   "name": "python3"
  }
 },
 "nbformat": 4,
 "nbformat_minor": 2
}
